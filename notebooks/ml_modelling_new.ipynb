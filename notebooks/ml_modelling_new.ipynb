{
 "cells": [
  {
   "cell_type": "markdown",
   "id": "fd3e5046",
   "metadata": {},
   "source": [
    "## Import the libraries and the dataset"
   ]
  },
  {
   "cell_type": "code",
   "execution_count": 1,
   "id": "dd931cd9",
   "metadata": {},
   "outputs": [],
   "source": [
    "# Importing Pandas an Numpy Libraries to use on manipulating our Data\n",
    "import pandas as pd\n",
    "import numpy as np\n",
    "\n",
    "# To Preproccesing our data\n",
    "from sklearn.preprocessing import LabelEncoder\n",
    "\n",
    "# To fill missing values\n",
    "from sklearn.impute import SimpleImputer\n",
    "\n",
    "# To Split our train data\n",
    "from sklearn.model_selection import train_test_split\n",
    "\n",
    "# To Visualize Data\n",
    "import matplotlib.pyplot as plt\n",
    "import seaborn as sns\n",
    "\n",
    "# To Train our data\n",
    "from xgboost import XGBClassifier\n",
    "from sklearn.tree import DecisionTreeClassifier\n",
    "from sklearn.ensemble import RandomForestClassifier\n",
    "from sklearn.neighbors import KNeighborsClassifier\n",
    "from sklearn.linear_model import LogisticRegression\n",
    "from sklearn.naive_bayes import BernoulliNB, GaussianNB\n",
    "\n",
    "# To evaluate end result we have\n",
    "from sklearn.metrics import accuracy_score, confusion_matrix\n",
    "from sklearn.model_selection import LeaveOneOut\n",
    "from sklearn.model_selection import cross_val_score\n",
    "\n",
    "#Adding scripts path\n",
    "import sys, os\n",
    "sys.path.insert(0,'../scripts/')\n",
    "\n",
    "from data_Preprocess import CleanDataFrame\n",
    "from data_info import DataInfo \n",
    "from VisualisationPlots import VisualiseDf\n"
   ]
  },
  {
   "cell_type": "markdown",
   "id": "cb845106",
   "metadata": {},
   "source": [
    "## Exploring the dataset that we have"
   ]
  },
  {
   "cell_type": "code",
   "execution_count": 23,
   "id": "17e228ca",
   "metadata": {},
   "outputs": [
    {
     "data": {
      "text/html": [
       "<div>\n",
       "<style scoped>\n",
       "    .dataframe tbody tr th:only-of-type {\n",
       "        vertical-align: middle;\n",
       "    }\n",
       "\n",
       "    .dataframe tbody tr th {\n",
       "        vertical-align: top;\n",
       "    }\n",
       "\n",
       "    .dataframe thead th {\n",
       "        text-align: right;\n",
       "    }\n",
       "</style>\n",
       "<table border=\"1\" class=\"dataframe\">\n",
       "  <thead>\n",
       "    <tr style=\"text-align: right;\">\n",
       "      <th></th>\n",
       "      <th>Unnamed: 0</th>\n",
       "      <th>auction_id</th>\n",
       "      <th>experiment</th>\n",
       "      <th>date</th>\n",
       "      <th>hour</th>\n",
       "      <th>device_make</th>\n",
       "      <th>platform_os</th>\n",
       "      <th>browser</th>\n",
       "      <th>yes</th>\n",
       "      <th>no</th>\n",
       "    </tr>\n",
       "  </thead>\n",
       "  <tbody>\n",
       "    <tr>\n",
       "      <th>0</th>\n",
       "      <td>1333639</td>\n",
       "      <td>8ec30aff-2332-4a1f-9330-b93abb32bc94</td>\n",
       "      <td>control</td>\n",
       "      <td>&lt;built-in method date of Timestamp object at 0...</td>\n",
       "      <td>15</td>\n",
       "      <td>LG</td>\n",
       "      <td>156</td>\n",
       "      <td>6</td>\n",
       "      <td>0.0</td>\n",
       "      <td>0.0</td>\n",
       "    </tr>\n",
       "    <tr>\n",
       "      <th>1</th>\n",
       "      <td>730667</td>\n",
       "      <td>4e1bcb56-357c-4186-9d39-3be82e3519f1</td>\n",
       "      <td>control</td>\n",
       "      <td>&lt;built-in method date of Timestamp object at 0...</td>\n",
       "      <td>7</td>\n",
       "      <td>Samsung</td>\n",
       "      <td>162</td>\n",
       "      <td>6</td>\n",
       "      <td>0.0</td>\n",
       "      <td>0.0</td>\n",
       "    </tr>\n",
       "    <tr>\n",
       "      <th>2</th>\n",
       "      <td>2069787</td>\n",
       "      <td>dd6ec327-fcfd-4a80-89c0-dccd3dd80f09</td>\n",
       "      <td>control</td>\n",
       "      <td>&lt;built-in method date of Timestamp object at 0...</td>\n",
       "      <td>14</td>\n",
       "      <td>Apple</td>\n",
       "      <td>178</td>\n",
       "      <td>15</td>\n",
       "      <td>0.0</td>\n",
       "      <td>0.0</td>\n",
       "    </tr>\n",
       "    <tr>\n",
       "      <th>3</th>\n",
       "      <td>1692366</td>\n",
       "      <td>b5222d0f-39e3-4c02-a12f-1ef09d4f861f</td>\n",
       "      <td>control</td>\n",
       "      <td>&lt;built-in method date of Timestamp object at 0...</td>\n",
       "      <td>22</td>\n",
       "      <td>Apple</td>\n",
       "      <td>167</td>\n",
       "      <td>15</td>\n",
       "      <td>0.0</td>\n",
       "      <td>0.0</td>\n",
       "    </tr>\n",
       "    <tr>\n",
       "      <th>4</th>\n",
       "      <td>1384123</td>\n",
       "      <td>9428377d-1504-4407-87c2-ce518f67eb87</td>\n",
       "      <td>control</td>\n",
       "      <td>&lt;built-in method date of Timestamp object at 0...</td>\n",
       "      <td>21</td>\n",
       "      <td>Samsung</td>\n",
       "      <td>155</td>\n",
       "      <td>15</td>\n",
       "      <td>0.0</td>\n",
       "      <td>0.0</td>\n",
       "    </tr>\n",
       "  </tbody>\n",
       "</table>\n",
       "</div>"
      ],
      "text/plain": [
       "   Unnamed: 0                            auction_id experiment  \\\n",
       "0     1333639  8ec30aff-2332-4a1f-9330-b93abb32bc94    control   \n",
       "1      730667  4e1bcb56-357c-4186-9d39-3be82e3519f1    control   \n",
       "2     2069787  dd6ec327-fcfd-4a80-89c0-dccd3dd80f09    control   \n",
       "3     1692366  b5222d0f-39e3-4c02-a12f-1ef09d4f861f    control   \n",
       "4     1384123  9428377d-1504-4407-87c2-ce518f67eb87    control   \n",
       "\n",
       "                                                date  hour device_make  \\\n",
       "0  <built-in method date of Timestamp object at 0...    15          LG   \n",
       "1  <built-in method date of Timestamp object at 0...     7     Samsung   \n",
       "2  <built-in method date of Timestamp object at 0...    14       Apple   \n",
       "3  <built-in method date of Timestamp object at 0...    22       Apple   \n",
       "4  <built-in method date of Timestamp object at 0...    21     Samsung   \n",
       "\n",
       "   platform_os  browser  yes   no  \n",
       "0          156        6  0.0  0.0  \n",
       "1          162        6  0.0  0.0  \n",
       "2          178       15  0.0  0.0  \n",
       "3          167       15  0.0  0.0  \n",
       "4          155       15  0.0  0.0  "
      ]
     },
     "execution_count": 23,
     "metadata": {},
     "output_type": "execute_result"
    }
   ],
   "source": [
    "# importing dataset\n",
    "df = pd.read_csv(\"../dataOld/ABtwoCampaignEngView.csv\")\n",
    "df.head()\n"
   ]
  },
  {
   "cell_type": "code",
   "execution_count": 24,
   "id": "7b841c85",
   "metadata": {},
   "outputs": [
    {
     "name": "stderr",
     "output_type": "stream",
     "text": [
      "C:\\Users\\Ekubay\\AppData\\Local\\Temp/ipykernel_2512/591064240.py:2: FutureWarning: The frame.append method is deprecated and will be removed from pandas in a future version. Use pandas.concat instead.\n",
      "  response = df[df['yes'] == 1].append(df[df['no'] == 1])\n"
     ]
    },
    {
     "data": {
      "text/html": [
       "<div>\n",
       "<style scoped>\n",
       "    .dataframe tbody tr th:only-of-type {\n",
       "        vertical-align: middle;\n",
       "    }\n",
       "\n",
       "    .dataframe tbody tr th {\n",
       "        vertical-align: top;\n",
       "    }\n",
       "\n",
       "    .dataframe thead th {\n",
       "        text-align: right;\n",
       "    }\n",
       "</style>\n",
       "<table border=\"1\" class=\"dataframe\">\n",
       "  <thead>\n",
       "    <tr style=\"text-align: right;\">\n",
       "      <th></th>\n",
       "      <th>Unnamed: 0</th>\n",
       "      <th>auction_id</th>\n",
       "      <th>experiment</th>\n",
       "      <th>date</th>\n",
       "      <th>hour</th>\n",
       "      <th>device_make</th>\n",
       "      <th>platform_os</th>\n",
       "      <th>browser</th>\n",
       "      <th>yes</th>\n",
       "      <th>no</th>\n",
       "    </tr>\n",
       "  </thead>\n",
       "  <tbody>\n",
       "    <tr>\n",
       "      <th>80</th>\n",
       "      <td>2201667</td>\n",
       "      <td>eb941471-f485-4516-b4d3-648e7838d53a</td>\n",
       "      <td>control</td>\n",
       "      <td>&lt;built-in method date of Timestamp object at 0...</td>\n",
       "      <td>15</td>\n",
       "      <td>Apple</td>\n",
       "      <td>101</td>\n",
       "      <td>15</td>\n",
       "      <td>1.0</td>\n",
       "      <td>0.0</td>\n",
       "    </tr>\n",
       "    <tr>\n",
       "      <th>84</th>\n",
       "      <td>917467</td>\n",
       "      <td>622af8e2-7bcf-4681-a921-442e1f8378f1</td>\n",
       "      <td>control</td>\n",
       "      <td>&lt;built-in method date of Timestamp object at 0...</td>\n",
       "      <td>6</td>\n",
       "      <td>Apple</td>\n",
       "      <td>101</td>\n",
       "      <td>5</td>\n",
       "      <td>1.0</td>\n",
       "      <td>0.0</td>\n",
       "    </tr>\n",
       "    <tr>\n",
       "      <th>103</th>\n",
       "      <td>809779</td>\n",
       "      <td>56a03982-6278-4083-9554-3a069dbc22c8</td>\n",
       "      <td>control</td>\n",
       "      <td>&lt;built-in method date of Timestamp object at 0...</td>\n",
       "      <td>20</td>\n",
       "      <td>Samsung</td>\n",
       "      <td>162</td>\n",
       "      <td>6</td>\n",
       "      <td>1.0</td>\n",
       "      <td>0.0</td>\n",
       "    </tr>\n",
       "    <tr>\n",
       "      <th>209</th>\n",
       "      <td>365586</td>\n",
       "      <td>2711e2f3-a624-4243-800e-693a888bc394</td>\n",
       "      <td>control</td>\n",
       "      <td>&lt;built-in method date of Timestamp object at 0...</td>\n",
       "      <td>3</td>\n",
       "      <td>Samsung</td>\n",
       "      <td>162</td>\n",
       "      <td>6</td>\n",
       "      <td>1.0</td>\n",
       "      <td>0.0</td>\n",
       "    </tr>\n",
       "    <tr>\n",
       "      <th>255</th>\n",
       "      <td>1215695</td>\n",
       "      <td>822e43cb-47a4-4101-90bb-02e7e1c2f576</td>\n",
       "      <td>control</td>\n",
       "      <td>&lt;built-in method date of Timestamp object at 0...</td>\n",
       "      <td>15</td>\n",
       "      <td>Apple</td>\n",
       "      <td>101</td>\n",
       "      <td>7</td>\n",
       "      <td>1.0</td>\n",
       "      <td>0.0</td>\n",
       "    </tr>\n",
       "  </tbody>\n",
       "</table>\n",
       "</div>"
      ],
      "text/plain": [
       "     Unnamed: 0                            auction_id experiment  \\\n",
       "80      2201667  eb941471-f485-4516-b4d3-648e7838d53a    control   \n",
       "84       917467  622af8e2-7bcf-4681-a921-442e1f8378f1    control   \n",
       "103      809779  56a03982-6278-4083-9554-3a069dbc22c8    control   \n",
       "209      365586  2711e2f3-a624-4243-800e-693a888bc394    control   \n",
       "255     1215695  822e43cb-47a4-4101-90bb-02e7e1c2f576    control   \n",
       "\n",
       "                                                  date  hour device_make  \\\n",
       "80   <built-in method date of Timestamp object at 0...    15       Apple   \n",
       "84   <built-in method date of Timestamp object at 0...     6       Apple   \n",
       "103  <built-in method date of Timestamp object at 0...    20     Samsung   \n",
       "209  <built-in method date of Timestamp object at 0...     3     Samsung   \n",
       "255  <built-in method date of Timestamp object at 0...    15       Apple   \n",
       "\n",
       "     platform_os  browser  yes   no  \n",
       "80           101       15  1.0  0.0  \n",
       "84           101        5  1.0  0.0  \n",
       "103          162        6  1.0  0.0  \n",
       "209          162        6  1.0  0.0  \n",
       "255          101        7  1.0  0.0  "
      ]
     },
     "execution_count": 24,
     "metadata": {},
     "output_type": "execute_result"
    }
   ],
   "source": [
    "# getting users who only answers yes or no\n",
    "response = df[df['yes'] == 1].append(df[df['no'] == 1])\n",
    "response.head(5)"
   ]
  },
  {
   "cell_type": "code",
   "execution_count": 25,
   "id": "f89fbca9",
   "metadata": {},
   "outputs": [
    {
     "name": "stderr",
     "output_type": "stream",
     "text": [
      "C:\\Users\\Ekubay\\AppData\\Local\\Temp/ipykernel_2512/2934469433.py:6: FutureWarning: The frame.append method is deprecated and will be removed from pandas in a future version. Use pandas.concat instead.\n",
      "  response_clean = df1.append(df2).reset_index(drop=True)\n"
     ]
    },
    {
     "data": {
      "text/html": [
       "<div>\n",
       "<style scoped>\n",
       "    .dataframe tbody tr th:only-of-type {\n",
       "        vertical-align: middle;\n",
       "    }\n",
       "\n",
       "    .dataframe tbody tr th {\n",
       "        vertical-align: top;\n",
       "    }\n",
       "\n",
       "    .dataframe thead th {\n",
       "        text-align: right;\n",
       "    }\n",
       "</style>\n",
       "<table border=\"1\" class=\"dataframe\">\n",
       "  <thead>\n",
       "    <tr style=\"text-align: right;\">\n",
       "      <th></th>\n",
       "      <th>Unnamed: 0</th>\n",
       "      <th>auction_id</th>\n",
       "      <th>experiment</th>\n",
       "      <th>date</th>\n",
       "      <th>hour</th>\n",
       "      <th>device_make</th>\n",
       "      <th>platform_os</th>\n",
       "      <th>browser</th>\n",
       "      <th>response</th>\n",
       "    </tr>\n",
       "  </thead>\n",
       "  <tbody>\n",
       "    <tr>\n",
       "      <th>0</th>\n",
       "      <td>2201667</td>\n",
       "      <td>eb941471-f485-4516-b4d3-648e7838d53a</td>\n",
       "      <td>control</td>\n",
       "      <td>&lt;built-in method date of Timestamp object at 0...</td>\n",
       "      <td>15</td>\n",
       "      <td>Apple</td>\n",
       "      <td>101</td>\n",
       "      <td>15</td>\n",
       "      <td>1</td>\n",
       "    </tr>\n",
       "    <tr>\n",
       "      <th>1</th>\n",
       "      <td>917467</td>\n",
       "      <td>622af8e2-7bcf-4681-a921-442e1f8378f1</td>\n",
       "      <td>control</td>\n",
       "      <td>&lt;built-in method date of Timestamp object at 0...</td>\n",
       "      <td>6</td>\n",
       "      <td>Apple</td>\n",
       "      <td>101</td>\n",
       "      <td>5</td>\n",
       "      <td>1</td>\n",
       "    </tr>\n",
       "    <tr>\n",
       "      <th>2</th>\n",
       "      <td>809779</td>\n",
       "      <td>56a03982-6278-4083-9554-3a069dbc22c8</td>\n",
       "      <td>control</td>\n",
       "      <td>&lt;built-in method date of Timestamp object at 0...</td>\n",
       "      <td>20</td>\n",
       "      <td>Samsung</td>\n",
       "      <td>162</td>\n",
       "      <td>6</td>\n",
       "      <td>1</td>\n",
       "    </tr>\n",
       "    <tr>\n",
       "      <th>3</th>\n",
       "      <td>365586</td>\n",
       "      <td>2711e2f3-a624-4243-800e-693a888bc394</td>\n",
       "      <td>control</td>\n",
       "      <td>&lt;built-in method date of Timestamp object at 0...</td>\n",
       "      <td>3</td>\n",
       "      <td>Samsung</td>\n",
       "      <td>162</td>\n",
       "      <td>6</td>\n",
       "      <td>1</td>\n",
       "    </tr>\n",
       "    <tr>\n",
       "      <th>4</th>\n",
       "      <td>1215695</td>\n",
       "      <td>822e43cb-47a4-4101-90bb-02e7e1c2f576</td>\n",
       "      <td>control</td>\n",
       "      <td>&lt;built-in method date of Timestamp object at 0...</td>\n",
       "      <td>15</td>\n",
       "      <td>Apple</td>\n",
       "      <td>101</td>\n",
       "      <td>7</td>\n",
       "      <td>1</td>\n",
       "    </tr>\n",
       "  </tbody>\n",
       "</table>\n",
       "</div>"
      ],
      "text/plain": [
       "   Unnamed: 0                            auction_id experiment  \\\n",
       "0     2201667  eb941471-f485-4516-b4d3-648e7838d53a    control   \n",
       "1      917467  622af8e2-7bcf-4681-a921-442e1f8378f1    control   \n",
       "2      809779  56a03982-6278-4083-9554-3a069dbc22c8    control   \n",
       "3      365586  2711e2f3-a624-4243-800e-693a888bc394    control   \n",
       "4     1215695  822e43cb-47a4-4101-90bb-02e7e1c2f576    control   \n",
       "\n",
       "                                                date  hour device_make  \\\n",
       "0  <built-in method date of Timestamp object at 0...    15       Apple   \n",
       "1  <built-in method date of Timestamp object at 0...     6       Apple   \n",
       "2  <built-in method date of Timestamp object at 0...    20     Samsung   \n",
       "3  <built-in method date of Timestamp object at 0...     3     Samsung   \n",
       "4  <built-in method date of Timestamp object at 0...    15       Apple   \n",
       "\n",
       "   platform_os  browser  response  \n",
       "0          101       15         1  \n",
       "1          101        5         1  \n",
       "2          162        6         1  \n",
       "3          162        6         1  \n",
       "4          101        7         1  "
      ]
     },
     "execution_count": 25,
     "metadata": {},
     "output_type": "execute_result"
    }
   ],
   "source": [
    "# merge the yes and no columns into a single response column\n",
    "df1 = response[response['yes'] == 1].drop(['yes','no'], axis = 1)\n",
    "df1['response'] = 1\n",
    "df2 = response[response['no'] == 1].drop(['yes','no'], axis = 1)\n",
    "df2['response'] = 0\n",
    "response_clean = df1.append(df2).reset_index(drop=True)\n",
    "response_clean.head(5)"
   ]
  },
  {
   "cell_type": "code",
   "execution_count": 26,
   "id": "9418e046",
   "metadata": {},
   "outputs": [],
   "source": [
    "# save\n",
    "response_clean.to_csv('../data/clean_AdSmartABdata1.csv')"
   ]
  },
  {
   "cell_type": "markdown",
   "id": "e3b2e25b",
   "metadata": {},
   "source": [
    "* Here at this point, a first version of the data into gdrive was saved. \n",
    "\n",
    "<img src=\"../data/push_v1.jpg\"\n",
    "     alt=\"version1\"\n",
    "     style=\"float:left;margin-right:10px;\">"
   ]
  },
  {
   "cell_type": "code",
   "execution_count": 27,
   "id": "3c915aa6",
   "metadata": {},
   "outputs": [],
   "source": [
    "# One hot encoder\n",
    "\n",
    "from sklearn.preprocessing import LabelEncoder\n",
    "\n",
    "label_encoder = LabelEncoder()\n",
    "# \n",
    "response_clean['experiment'] = label_encoder.fit_transform(response_clean['experiment'])\n",
    "response_clean['date'] = label_encoder.fit_transform(response_clean['date'])\n",
    "response_clean['hour'] = label_encoder.fit_transform(response_clean['hour'])\n",
    "response_clean['device_make'] = label_encoder.fit_transform(response_clean['device_make'])\n",
    "response_clean['platform_os'] = label_encoder.fit_transform(response_clean['platform_os'])\n",
    "response_clean['browser'] = label_encoder.fit_transform(response_clean['browser'])\n",
    "response_clean['response'] = label_encoder.fit_transform(response_clean['response'])"
   ]
  },
  {
   "cell_type": "code",
   "execution_count": 28,
   "id": "71103bd5",
   "metadata": {},
   "outputs": [],
   "source": [
    "# browser only df\n",
    "browser_df = response_clean[[\"experiment\", \"date\", \"hour\", \"device_make\", \"browser\", \"response\"]]\n",
    "browser_df.to_csv(\"../data/clean_AdSmartABdata1.csv\")"
   ]
  },
  {
   "cell_type": "code",
   "execution_count": 34,
   "id": "4cdaae6c",
   "metadata": {},
   "outputs": [
    {
     "data": {
      "text/plain": [
       "(110570, 6)"
      ]
     },
     "execution_count": 34,
     "metadata": {},
     "output_type": "execute_result"
    }
   ],
   "source": [
    "browser_df.shape"
   ]
  },
  {
   "cell_type": "markdown",
   "id": "f10fcf27",
   "metadata": {},
   "source": [
    "* browser only df was saved using dvc from bash terminal. So thats why there are two folders the first one is for the first versioning as shown above.\n",
    "\n",
    "<img src=\"../data/browser_encoded.jpg\"\n",
    "     alt=\"Browser encoded V1\"\n",
    "     style=\"float:left;margin-right:10px;\">"
   ]
  },
  {
   "cell_type": "code",
   "execution_count": 29,
   "id": "e81d5a75",
   "metadata": {},
   "outputs": [],
   "source": [
    "# and do the same to get 'platform_df'\n",
    "platfrom_df = response_clean[[\"experiment\", \"date\" , \"hour\", \"device_make\", \"platform_os\", \"response\"]]\n",
    "platfrom_df.to_csv(\"../data/clean_AdSmartABdata2.csv\")"
   ]
  },
  {
   "cell_type": "markdown",
   "id": "89be1bd1",
   "metadata": {},
   "source": [
    "* Platform encoded V1\n",
    "\n",
    "<img src=\"../data/platformEncV1.jpg\"\n",
    "alt=\"Browser encoded V1\"\n",
    "style=\"float:left;margin-right:10px;\">"
   ]
  },
  {
   "cell_type": "markdown",
   "id": "b847d63f",
   "metadata": {},
   "source": [
    "# Splitting the data for training\n"
   ]
  },
  {
   "cell_type": "code",
   "execution_count": 30,
   "id": "a3b2f3ab",
   "metadata": {},
   "outputs": [],
   "source": [
    "# For browser df: X1: prediction freatures,y1:target feature\n",
    "X1 = browser_df.drop('response', axis=1) #prediction feature\n",
    "y1 = browser_df['response'] #target feature\n",
    "# \n",
    "# For Platform df: X11: prediction freatures,y11:target feature\n",
    "X11 = platfrom_df.drop('response', axis=1) #prediction features\n",
    "y11 = platfrom_df['response'] #target feature"
   ]
  },
  {
   "cell_type": "code",
   "execution_count": 31,
   "id": "201eede0",
   "metadata": {},
   "outputs": [],
   "source": [
    "# Splitting our dataset into training and testing dataset\n",
    "#training set 70%, 20% validation, test set 10%\n",
    "\n",
    "X1_train, X1_test, y1_train, y1_test = train_test_split(X1, y1, test_size=0.1, random_state=42)\n",
    "\n",
    "X11_train, X11_test, y11_train, y11_test = train_test_split(X11, y11, test_size=0.1, random_state=42)\n"
   ]
  },
  {
   "cell_type": "markdown",
   "id": "89f57318",
   "metadata": {},
   "source": [
    "# 1. Logistic regression\n",
    "\n",
    "### 1.1 using Browser df"
   ]
  },
  {
   "cell_type": "markdown",
   "id": "0f410ba4",
   "metadata": {},
   "source": [
    "* Cross validation is a statistical method used to estimate the skill of machine learning models. For a k-fold cross validation, there are common tactics that can be used to choose k. In our case k = 5."
   ]
  },
  {
   "cell_type": "code",
   "execution_count": 35,
   "id": "8f2a2e36",
   "metadata": {},
   "outputs": [
    {
     "name": "stdout",
     "output_type": "stream",
     "text": [
      "Predicted: [1 1 1 1 1 1 1 1 1 1]\n",
      "Actual: 49068    1\n",
      "12212    1\n",
      "94423    0\n",
      "60602    1\n",
      "86060    1\n",
      "50512    1\n",
      "30603    1\n",
      "66432    1\n",
      "10618    1\n",
      "29368    1\n",
      "Name: response, dtype: int64\n"
     ]
    }
   ],
   "source": [
    "# Define Logistic Regression Model\n",
    "log = LogisticRegression()\n",
    "# We fit our model with our train data\n",
    "log.fit(X1_train, y1_train)\n",
    "# Then predict results from X_test data\n",
    "pred_log = log.predict(X1_test)\n",
    "\n",
    "# See First 10 Predictions and They Actual Values\n",
    "print(\"Predicted:\", pred_log[0:10])\n",
    "print(\"Actual:\", y1_test[0:10])"
   ]
  },
  {
   "cell_type": "code",
   "execution_count": 36,
   "id": "b2470206",
   "metadata": {},
   "outputs": [
    {
     "name": "stdout",
     "output_type": "stream",
     "text": [
      "[0.83836608 0.83836608 0.83836608 0.8384082  0.8384082 ]\n",
      "Mean LogisticRegression score : 0.8383829253519608\n"
     ]
    }
   ],
   "source": [
    "# Applying the 5-fold Cross validation on logistic Regression model\n",
    "regressor=LogisticRegression(random_state=None)\n",
    "regressor.fit(X1_train,y1_train) \n",
    "scores=cross_val_score(estimator=regressor,X=X1_train,y=y1_train,cv=5,scoring='accuracy')\n",
    "print(scores)\n",
    "print('Mean LogisticRegression score :',scores.mean())"
   ]
  },
  {
   "cell_type": "code",
   "execution_count": 37,
   "id": "a378a058",
   "metadata": {
    "scrolled": true
   },
   "outputs": [
    {
     "data": {
      "text/html": [
       "<div>\n",
       "<style scoped>\n",
       "    .dataframe tbody tr th:only-of-type {\n",
       "        vertical-align: middle;\n",
       "    }\n",
       "\n",
       "    .dataframe tbody tr th {\n",
       "        vertical-align: top;\n",
       "    }\n",
       "\n",
       "    .dataframe thead th {\n",
       "        text-align: right;\n",
       "    }\n",
       "</style>\n",
       "<table border=\"1\" class=\"dataframe\">\n",
       "  <thead>\n",
       "    <tr style=\"text-align: right;\">\n",
       "      <th></th>\n",
       "      <th>Scores</th>\n",
       "    </tr>\n",
       "  </thead>\n",
       "  <tbody>\n",
       "    <tr>\n",
       "      <th>0</th>\n",
       "      <td>0.838366</td>\n",
       "    </tr>\n",
       "    <tr>\n",
       "      <th>1</th>\n",
       "      <td>0.838366</td>\n",
       "    </tr>\n",
       "    <tr>\n",
       "      <th>2</th>\n",
       "      <td>0.838366</td>\n",
       "    </tr>\n",
       "    <tr>\n",
       "      <th>3</th>\n",
       "      <td>0.838408</td>\n",
       "    </tr>\n",
       "    <tr>\n",
       "      <th>4</th>\n",
       "      <td>0.838408</td>\n",
       "    </tr>\n",
       "  </tbody>\n",
       "</table>\n",
       "</div>"
      ],
      "text/plain": [
       "     Scores\n",
       "0  0.838366\n",
       "1  0.838366\n",
       "2  0.838366\n",
       "3  0.838408\n",
       "4  0.838408"
      ]
     },
     "execution_count": 37,
     "metadata": {},
     "output_type": "execute_result"
    }
   ],
   "source": [
    "# save score\n",
    "scores1 = pd.DataFrame(scores,columns=['Scores']) \n",
    "scores1.head()"
   ]
  },
  {
   "cell_type": "markdown",
   "id": "0b1715bc",
   "metadata": {},
   "source": [
    "## * the cross validation of the of the new data is greater than the old one"
   ]
  },
  {
   "cell_type": "code",
   "execution_count": 38,
   "id": "81409bed",
   "metadata": {},
   "outputs": [
    {
     "data": {
      "image/png": "[encoded data removed]",
      "text/plain": [
       "<Figure size 432x288 with 1 Axes>"
      ]
     },
     "metadata": {},
     "output_type": "display_data"
    }
   ],
   "source": [
    "# plotting the accuracy score\n",
    "sns.set(style=\"dark\", rc={\"lines.linewidth\": 9})\n",
    "sns.barplot(x=['experiment','date','hour','devicemake','browser'],y=\"Scores\",data=scores1, color=\"cyan\")\n",
    "plt.show()\n",
    "sns.set()"
   ]
  },
  {
   "cell_type": "code",
   "execution_count": 39,
   "id": "6c013405",
   "metadata": {},
   "outputs": [
    {
     "name": "stdout",
     "output_type": "stream",
     "text": [
      "[[ 0.45154087 -0.00618303 -0.12031708  0.64892178 -0.23219142]]\n"
     ]
    }
   ],
   "source": [
    "#feature coefficients\n",
    "regressor.fit(X1 / np.std(X1, 0), y1)\n",
    "print(regressor.coef_)"
   ]
  },
  {
   "cell_type": "code",
   "execution_count": 92,
   "id": "fe6d13a6",
   "metadata": {},
   "outputs": [
    {
     "name": "stdout",
     "output_type": "stream",
     "text": [
      "Feature: 0, Score: 0.00049\n",
      "Feature: 1, Score: 0.00001\n",
      "Feature: 2, Score: 0.00263\n",
      "Feature: 3, Score: 0.03830\n",
      "Feature: 4, Score: 0.00047\n"
     ]
    }
   ],
   "source": [
    "#plotting the feature importance\n",
    "#The coefficients are both positive and negative.\n",
    "# logistic regression for feature importance\n",
    "from matplotlib import pyplot\n",
    "# define the model\n",
    "model = LogisticRegression()\n",
    "# fit the model\n",
    "model.fit(X1, y1)\n",
    "# get importance\n",
    "importance = model.coef_[0]\n",
    "# summarize feature importance\n",
    "for i,v in enumerate(importance):\n",
    "    print('Feature: %0d, Score: %.5f' % (i,v))"
   ]
  },
  {
   "cell_type": "markdown",
   "id": "b520b4a7",
   "metadata": {},
   "source": [
    "* So the most important feature in this model is feature 2 (devicemake) with a score of 0.03830"
   ]
  },
  {
   "cell_type": "markdown",
   "id": "6878f197",
   "metadata": {},
   "source": [
    "## Analysis of the P-value"
   ]
  },
  {
   "cell_type": "code",
   "execution_count": 93,
   "id": "f1dae149",
   "metadata": {
    "scrolled": true
   },
   "outputs": [
    {
     "data": {
      "text/plain": [
       "[0.0, 0.0, 6.507421623458208e-262, 0.0, 0.0]"
      ]
     },
     "execution_count": 93,
     "metadata": {},
     "output_type": "execute_result"
    }
   ],
   "source": [
    "from sklearn.feature_selection import chi2\n",
    "\n",
    "scores, pvalues = chi2(X1_train, y1_train)\n",
    "list(pvalues)"
   ]
  },
  {
   "cell_type": "markdown",
   "id": "5ce69747",
   "metadata": {},
   "source": [
    "#### P-value mest be lessthan  0.05 to be a significant \n",
    " - all columns are significant and the most significant column is `hour`"
   ]
  },
  {
   "cell_type": "markdown",
   "id": "f63a3cfd",
   "metadata": {},
   "source": [
    "### 1.2 Using platform df"
   ]
  },
  {
   "cell_type": "code",
   "execution_count": 43,
   "id": "87fa2b13",
   "metadata": {},
   "outputs": [
    {
     "name": "stdout",
     "output_type": "stream",
     "text": [
      "[0.83695925 0.83876802 0.83434658 0.83835795 0.83825746]\n",
      "Mean LogisticRegression score : 0.8373378547496915\n"
     ]
    }
   ],
   "source": [
    "# Applying the 5-fold Cross validation on logistic Regression model\n",
    "regressor=LogisticRegression(random_state=None)\n",
    "regressor.fit(X11_train,y11_train) \n",
    "scores=cross_val_score(estimator=regressor,X=X11_train,y=y11_train,cv=5,scoring='accuracy')\n",
    "print(scores)\n",
    "print('Mean LogisticRegression score :',scores.mean())"
   ]
  },
  {
   "cell_type": "code",
   "execution_count": 44,
   "id": "39466f6c",
   "metadata": {},
   "outputs": [
    {
     "data": {
      "text/html": [
       "<div>\n",
       "<style scoped>\n",
       "    .dataframe tbody tr th:only-of-type {\n",
       "        vertical-align: middle;\n",
       "    }\n",
       "\n",
       "    .dataframe tbody tr th {\n",
       "        vertical-align: top;\n",
       "    }\n",
       "\n",
       "    .dataframe thead th {\n",
       "        text-align: right;\n",
       "    }\n",
       "</style>\n",
       "<table border=\"1\" class=\"dataframe\">\n",
       "  <thead>\n",
       "    <tr style=\"text-align: right;\">\n",
       "      <th></th>\n",
       "      <th>Scores</th>\n",
       "    </tr>\n",
       "  </thead>\n",
       "  <tbody>\n",
       "    <tr>\n",
       "      <th>0</th>\n",
       "      <td>0.836959</td>\n",
       "    </tr>\n",
       "    <tr>\n",
       "      <th>1</th>\n",
       "      <td>0.838768</td>\n",
       "    </tr>\n",
       "    <tr>\n",
       "      <th>2</th>\n",
       "      <td>0.834347</td>\n",
       "    </tr>\n",
       "    <tr>\n",
       "      <th>3</th>\n",
       "      <td>0.838358</td>\n",
       "    </tr>\n",
       "    <tr>\n",
       "      <th>4</th>\n",
       "      <td>0.838257</td>\n",
       "    </tr>\n",
       "  </tbody>\n",
       "</table>\n",
       "</div>"
      ],
      "text/plain": [
       "     Scores\n",
       "0  0.836959\n",
       "1  0.838768\n",
       "2  0.834347\n",
       "3  0.838358\n",
       "4  0.838257"
      ]
     },
     "execution_count": 44,
     "metadata": {},
     "output_type": "execute_result"
    }
   ],
   "source": [
    "# saving the output to a pandas dataframe\n",
    "scores1 = pd.DataFrame(scores,columns=['Scores']) \n",
    "scores1.head()"
   ]
  },
  {
   "cell_type": "code",
   "execution_count": 46,
   "id": "c9cd3d30",
   "metadata": {},
   "outputs": [
    {
     "data": {
      "image/png": "[encoded data removed]",
      "text/plain": [
       "<Figure size 432x288 with 1 Axes>"
      ]
     },
     "metadata": {},
     "output_type": "display_data"
    }
   ],
   "source": [
    "# plotting the accuracy score\n",
    "sns.set(style=\"dark\", rc={\"lines.linewidth\": 9})\n",
    "sns.barplot(x=['experiment','date','hour','devicemake','platform'],y=\"Scores\",data=scores1, color=\"red\")\n",
    "plt.show()\n",
    "sns.set()"
   ]
  },
  {
   "cell_type": "code",
   "execution_count": 47,
   "id": "3e403ce7",
   "metadata": {},
   "outputs": [
    {
     "name": "stdout",
     "output_type": "stream",
     "text": [
      "[[ 0.43870027 -0.00759631 -0.11492202  0.68768531 -0.18342688]]\n"
     ]
    }
   ],
   "source": [
    "#feature coefficients\n",
    "regressor.fit(X11 / np.std(X11, 0), y11)\n",
    "print(regressor.coef_)"
   ]
  },
  {
   "cell_type": "code",
   "execution_count": 48,
   "id": "50ef51c4",
   "metadata": {},
   "outputs": [
    {
     "name": "stdout",
     "output_type": "stream",
     "text": [
      "Feature: 0, Score: 0.00100\n",
      "Feature: 1, Score: 0.00001\n",
      "Feature: 2, Score: -0.00105\n",
      "Feature: 3, Score: 0.03955\n",
      "Feature: 4, Score: -0.01440\n"
     ]
    }
   ],
   "source": [
    "#plotting the feature importance\n",
    "#The coefficients are both positive and negative.\n",
    "# logistic regression for feature importance\n",
    "from matplotlib import pyplot\n",
    "# define the model\n",
    "model = LogisticRegression()\n",
    "# fit the model\n",
    "model.fit(X11, y11)\n",
    "# get importance\n",
    "importance = model.coef_[0]\n",
    "# summarize feature importance\n",
    "for i,v in enumerate(importance):\n",
    "    print('Feature: %0d, Score: %.5f' % (i,v))"
   ]
  },
  {
   "cell_type": "markdown",
   "id": "6f157637",
   "metadata": {},
   "source": [
    "* Again, the most important feature in this model is feature 4 (`devicemake`) with a score of 0.03955."
   ]
  },
  {
   "cell_type": "code",
   "execution_count": 52,
   "id": "46f2acc5",
   "metadata": {
    "scrolled": true
   },
   "outputs": [
    {
     "name": "stdout",
     "output_type": "stream",
     "text": [
      "step 0: Validation Accuracy of LogesticRegression is: 0.843\n",
      "step 0: Validation Loss of LogesticRegression is: 0.396\n",
      "\n",
      "step 1: Validation Accuracy of LogesticRegression is: 0.835\n",
      "step 1: Validation Loss of LogesticRegression is: 0.406\n",
      "\n",
      "step 2: Validation Accuracy of LogesticRegression is: 0.835\n",
      "step 2: Validation Loss of LogesticRegression is: 0.406\n",
      "\n",
      "step 3: Validation Accuracy of LogesticRegression is: 0.839\n",
      "step 3: Validation Loss of LogesticRegression is: 0.402\n",
      "\n",
      "step 4: Validation Accuracy of LogesticRegression is: 0.840\n",
      "step 4: Validation Loss of LogesticRegression is: 0.400\n",
      "\n"
     ]
    }
   ],
   "source": [
    "#Adding scripts path\n",
    "import sys, os\n",
    "sys.path.insert(0,'../scripts/')\n",
    "\n",
    "from Reg_script import LogesticRegressionModel\n",
    "LRModel = LogesticRegressionModel(X1_train, X1_test,  y1_train, y1_test)\n",
    "clf2, loss_arr_2, acc_arr_2 = LRModel.train(5)\n",
    "LRModel.write_model('browser_os_Logestic_Reg_model', clf2)"
   ]
  },
  {
   "cell_type": "markdown",
   "id": "c5f673c5",
   "metadata": {},
   "source": [
    "### Evaluating the model LogesticRegressionModel"
   ]
  },
  {
   "cell_type": "markdown",
   "id": "80d07c00",
   "metadata": {},
   "source": [
    "### the P-valueof the feature "
   ]
  },
  {
   "cell_type": "code",
   "execution_count": 91,
   "id": "2120701d",
   "metadata": {},
   "outputs": [
    {
     "data": {
      "text/plain": [
       "[0.0, 0.0, 6.507421623458208e-262, 0.0, 0.0]"
      ]
     },
     "execution_count": 91,
     "metadata": {},
     "output_type": "execute_result"
    }
   ],
   "source": [
    "from sklearn.feature_selection import chi2\n",
    "\n",
    "scores, pvalues = chi2(X11_train, y11_train)\n",
    "list(pvalues)"
   ]
  },
  {
   "cell_type": "markdown",
   "id": "21e3e25c",
   "metadata": {},
   "source": [
    "## Analysis of the result \n",
    "### TO HAVE SIGINIFICANCE THE P-VALUE MUST BE LESS THAT 0.05\n",
    "- all columns are significant and the most significant column is `hour`"
   ]
  },
  {
   "cell_type": "markdown",
   "id": "e4234cb1",
   "metadata": {},
   "source": [
    "# 2. XGBOOST\n",
    "\n",
    "### 2.1 Using Browser Df"
   ]
  },
  {
   "cell_type": "code",
   "execution_count": 50,
   "id": "a92ac656",
   "metadata": {},
   "outputs": [
    {
     "name": "stderr",
     "output_type": "stream",
     "text": [
      "C:\\Users\\Ekubay\\anaconda3\\lib\\site-packages\\xgboost\\sklearn.py:793: UserWarning: `early_stopping_rounds` in `fit` method is deprecated for better compatibility with scikit-learn, use `early_stopping_rounds` in constructor or`set_params` instead.\n",
      "  warnings.warn(\n"
     ]
    },
    {
     "name": "stdout",
     "output_type": "stream",
     "text": [
      "Actual: 49068    1\n",
      "12212    1\n",
      "94423    0\n",
      "60602    1\n",
      "86060    1\n",
      "50512    1\n",
      "30603    1\n",
      "66432    1\n",
      "10618    1\n",
      "29368    1\n",
      "Name: response, dtype: int64\n"
     ]
    }
   ],
   "source": [
    "# Define XGBoost Model\n",
    "xgb = XGBClassifier(n_estimators=1000, learning_rate=0.05)\n",
    "# We fit our model with our train data\n",
    "xgb.fit(\n",
    "    X1_train, y1_train,\n",
    "    # That means if model don't improve it self in 5 rounds, it will stop learning\n",
    "    # So you can save your time and don't overtrain your model.\n",
    "    early_stopping_rounds=5,\n",
    "    # We provide Test data's to evaluate model performance\n",
    "    eval_set=[(X1_test, y1_test)],\n",
    "    verbose=False\n",
    " )\n",
    "# Then predict results from X_test data\n",
    "pred_xgb = xgb.predict(X1_test)\n",
    "\n",
    "# See First 10 Predictions and They Actual Values\n",
    "# print(\"Predicted:\", pred_xgb[0:10])\n",
    "print(\"Actual:\", y1_test[0:10])"
   ]
  },
  {
   "cell_type": "code",
   "execution_count": 51,
   "id": "f2f41d77",
   "metadata": {},
   "outputs": [
    {
     "data": {
      "image/png": "[encoded data removed]",
      "text/plain": [
       "<Figure size 432x288 with 1 Axes>"
      ]
     },
     "metadata": {},
     "output_type": "display_data"
    }
   ],
   "source": [
    "from xgboost import plot_importance\n",
    "# fit model no training data\n",
    "model = XGBClassifier()\n",
    "model.fit(X1, y1)\n",
    "# plot feature importance\n",
    "plot_importance(model)\n",
    "pyplot.show()"
   ]
  },
  {
   "cell_type": "markdown",
   "id": "214610c2",
   "metadata": {},
   "source": [
    "* Using this model, `date` is the most important feature in predicting the target variable response."
   ]
  },
  {
   "cell_type": "markdown",
   "id": "c6622880",
   "metadata": {},
   "source": [
    "### 2.2 Using platform DF"
   ]
  },
  {
   "cell_type": "code",
   "execution_count": 57,
   "id": "3bffe4c7",
   "metadata": {},
   "outputs": [
    {
     "name": "stdout",
     "output_type": "stream",
     "text": [
      "Actual: 49068    1\n",
      "12212    1\n",
      "94423    0\n",
      "60602    1\n",
      "86060    1\n",
      "50512    1\n",
      "30603    1\n",
      "66432    1\n",
      "10618    1\n",
      "29368    1\n",
      "Name: response, dtype: int64\n"
     ]
    }
   ],
   "source": [
    "# Define XGBoost Model\n",
    "xgb = XGBClassifier(n_estimators=1000, learning_rate=0.05)\n",
    "# We fit our model with our train data\n",
    "xgb.fit(\n",
    "    X11_train, y11_train,\n",
    "    # That means if model don't improve it self in 5 rounds, it will stop learning\n",
    "    # So you can save your time and don't overtrain your model.\n",
    "    early_stopping_rounds=5,\n",
    "    # We provide Test data's to evaluate model performance\n",
    "    eval_set=[(X11_test, y11_test)],\n",
    "    verbose=False\n",
    " )\n",
    "# Then predict results from X_test data\n",
    "pred_xgb = xgb.predict(X11_test)\n",
    "\n",
    "# See First 10 Predictions and They Actual Values\n",
    "# print(\"Predicted:\", pred_xgb[0:10])\n",
    "print(\"Actual:\", y11_test[0:10])"
   ]
  },
  {
   "cell_type": "code",
   "execution_count": 59,
   "id": "d8b4a3c3",
   "metadata": {},
   "outputs": [
    {
     "data": {
      "image/png": "[encoded data removed]",
      "text/plain": [
       "<Figure size 432x288 with 1 Axes>"
      ]
     },
     "metadata": {},
     "output_type": "display_data"
    }
   ],
   "source": [
    "# fit model no training data\n",
    "model = XGBClassifier()\n",
    "model.fit(X11, y11)\n",
    "# plot feature importance\n",
    "plot_importance(model)\n",
    "pyplot.show()"
   ]
  },
  {
   "cell_type": "markdown",
   "id": "0d4bed38",
   "metadata": {},
   "source": [
    "* For the same model, but using platform dataframe, again `date` is the most important feature in predicting the target variable response."
   ]
  },
  {
   "cell_type": "code",
   "execution_count": 69,
   "id": "8e7195cf",
   "metadata": {},
   "outputs": [],
   "source": [
    "import sys, os\n",
    "sys.path.insert(0,'../scripts/')\n",
    "\n",
    "from Reg_script import XGBClassifierModel\n",
    "\n",
    "xGBClassifierModel = XGBClassifierModel(X1_train, X1_test,  y1_train, y1_test)\n",
    "clf3, acc_arr, loss_arr = xGBClassifierModel.train(5)\n",
    "xGBClassifierModel.write_model('browser_os_XGBoost_model', clf2)"
   ]
  },
  {
   "cell_type": "markdown",
   "id": "501cc1df",
   "metadata": {},
   "source": [
    "### *evaluating the model"
   ]
  },
  {
   "cell_type": "markdown",
   "id": "83b870f4",
   "metadata": {},
   "source": [
    "# 3. Random forest\n",
    "\n",
    "### 3.1 Using browser df"
   ]
  },
  {
   "cell_type": "code",
   "execution_count": 70,
   "id": "830a4715",
   "metadata": {},
   "outputs": [
    {
     "name": "stdout",
     "output_type": "stream",
     "text": [
      "Predicted: [1 1 1 1 1 1 1 1 1 0]\n",
      "Actual: 49068    1\n",
      "12212    1\n",
      "94423    0\n",
      "60602    1\n",
      "86060    1\n",
      "50512    1\n",
      "30603    1\n",
      "66432    1\n",
      "10618    1\n",
      "29368    1\n",
      "Name: response, dtype: int64\n"
     ]
    }
   ],
   "source": [
    "# Define Random forest Model\n",
    "rf = RandomForestClassifier()\n",
    "# We fit our model with our train data\n",
    "rf.fit(X1_train, y1_train)\n",
    "# Then predict results from X_test data\n",
    "pred_rf = rf.predict(X1_test)\n",
    "\n",
    "# See First 10 Predictions and They Actual Values\n",
    "print(\"Predicted:\", pred_rf[0:10])\n",
    "print(\"Actual:\", y1_test[0:10])"
   ]
  },
  {
   "cell_type": "code",
   "execution_count": 71,
   "id": "0e92bc55",
   "metadata": {},
   "outputs": [
    {
     "name": "stdout",
     "output_type": "stream",
     "text": [
      "[0.7983721  0.79982917 0.79786967 0.80007034 0.79313637]\n",
      "Mean clf score : 0.7978555313943917\n"
     ]
    }
   ],
   "source": [
    "#Applying k-fold Cross validation on random forest\n",
    "clf = RandomForestClassifier()\n",
    "clf.fit(X1_train,y1_train)\n",
    "clf_scores=cross_val_score(estimator=clf,X=X1_train,y=y1_train,cv=5,scoring='accuracy')\n",
    "print(clf_scores)\n",
    "print('Mean clf score :',clf_scores.mean())"
   ]
  },
  {
   "cell_type": "code",
   "execution_count": 72,
   "id": "d5cf2f3f",
   "metadata": {},
   "outputs": [
    {
     "data": {
      "text/html": [
       "<div>\n",
       "<style scoped>\n",
       "    .dataframe tbody tr th:only-of-type {\n",
       "        vertical-align: middle;\n",
       "    }\n",
       "\n",
       "    .dataframe tbody tr th {\n",
       "        vertical-align: top;\n",
       "    }\n",
       "\n",
       "    .dataframe thead th {\n",
       "        text-align: right;\n",
       "    }\n",
       "</style>\n",
       "<table border=\"1\" class=\"dataframe\">\n",
       "  <thead>\n",
       "    <tr style=\"text-align: right;\">\n",
       "      <th></th>\n",
       "      <th>Scores2</th>\n",
       "    </tr>\n",
       "  </thead>\n",
       "  <tbody>\n",
       "    <tr>\n",
       "      <th>0</th>\n",
       "      <td>0.798372</td>\n",
       "    </tr>\n",
       "    <tr>\n",
       "      <th>1</th>\n",
       "      <td>0.799829</td>\n",
       "    </tr>\n",
       "    <tr>\n",
       "      <th>2</th>\n",
       "      <td>0.797870</td>\n",
       "    </tr>\n",
       "    <tr>\n",
       "      <th>3</th>\n",
       "      <td>0.800070</td>\n",
       "    </tr>\n",
       "    <tr>\n",
       "      <th>4</th>\n",
       "      <td>0.793136</td>\n",
       "    </tr>\n",
       "  </tbody>\n",
       "</table>\n",
       "</div>"
      ],
      "text/plain": [
       "    Scores2\n",
       "0  0.798372\n",
       "1  0.799829\n",
       "2  0.797870\n",
       "3  0.800070\n",
       "4  0.793136"
      ]
     },
     "execution_count": 72,
     "metadata": {},
     "output_type": "execute_result"
    }
   ],
   "source": [
    "scores2 = pd.DataFrame(clf_scores,columns=['Scores2']) # saving the results into pandas dataframe\n",
    "scores2.head()"
   ]
  },
  {
   "cell_type": "code",
   "execution_count": 73,
   "id": "92899165",
   "metadata": {},
   "outputs": [
    {
     "name": "stdout",
     "output_type": "stream",
     "text": [
      "Feature: 0, Score: 0.03603\n",
      "Feature: 1, Score: 0.75372\n",
      "Feature: 2, Score: 0.06361\n",
      "Feature: 3, Score: 0.12345\n",
      "Feature: 4, Score: 0.02319\n"
     ]
    }
   ],
   "source": [
    "# define the model\n",
    "model = RandomForestClassifier()\n",
    "# fit the model\n",
    "model.fit(X1, y1)\n",
    "# get importance\n",
    "importance = model.feature_importances_\n",
    "# summarize feature importance\n",
    "for i,v in enumerate(importance):\n",
    "    print('Feature: %0d, Score: %.5f' % (i,v))\n",
    "# plot feature importance"
   ]
  },
  {
   "cell_type": "markdown",
   "id": "ae9d474a",
   "metadata": {},
   "source": [
    "* Random forest algorithm, using browser_dataframe, feature 2 (date) is the most important feature in predicting the target variable response."
   ]
  },
  {
   "cell_type": "markdown",
   "id": "24fd02f6",
   "metadata": {},
   "source": [
    "### 3.2 Using platform DF"
   ]
  },
  {
   "cell_type": "code",
   "execution_count": 74,
   "id": "d2281912",
   "metadata": {},
   "outputs": [
    {
     "name": "stdout",
     "output_type": "stream",
     "text": [
      "Predicted: [1 0 1 1 1 1 1 1 1 1]\n",
      "Actual: 49068    1\n",
      "12212    1\n",
      "94423    0\n",
      "60602    1\n",
      "86060    1\n",
      "50512    1\n",
      "30603    1\n",
      "66432    1\n",
      "10618    1\n",
      "29368    1\n",
      "Name: response, dtype: int64\n"
     ]
    }
   ],
   "source": [
    "# Define Decision Tree Model\n",
    "rf = RandomForestClassifier()\n",
    "# We fit our model with our train data\n",
    "rf.fit(X11_train, y11_train)\n",
    "# Then predict results from X_test data\n",
    "pred_rf = rf.predict(X11_test)\n",
    "\n",
    "# See First 10 Predictions and They Actual Values\n",
    "print(\"Predicted:\", pred_rf[0:10])\n",
    "print(\"Actual:\", y11_test[0:10])"
   ]
  },
  {
   "cell_type": "code",
   "execution_count": 33,
   "id": "860c7845",
   "metadata": {},
   "outputs": [
    {
     "name": "stdout",
     "output_type": "stream",
     "text": [
      "[0.56696429 0.51785714 0.5625     0.56502242 0.5470852 ]\n",
      "Mean clf score : 0.5518858103779628\n"
     ]
    }
   ],
   "source": [
    "#Applying k-fold Cross validation on Decision tree\n",
    "clf = RandomForestClassifier()\n",
    "clf.fit(X11_train,y11_train)\n",
    "clf_scores=cross_val_score(estimator=clf,X=X11_train,y=y11_train,cv=5,scoring='accuracy')\n",
    "print(clf_scores)\n",
    "print('Mean clf score :',clf_scores.mean())"
   ]
  },
  {
   "cell_type": "code",
   "execution_count": 75,
   "id": "b8b61ff7",
   "metadata": {},
   "outputs": [
    {
     "data": {
      "text/html": [
       "<div>\n",
       "<style scoped>\n",
       "    .dataframe tbody tr th:only-of-type {\n",
       "        vertical-align: middle;\n",
       "    }\n",
       "\n",
       "    .dataframe tbody tr th {\n",
       "        vertical-align: top;\n",
       "    }\n",
       "\n",
       "    .dataframe thead th {\n",
       "        text-align: right;\n",
       "    }\n",
       "</style>\n",
       "<table border=\"1\" class=\"dataframe\">\n",
       "  <thead>\n",
       "    <tr style=\"text-align: right;\">\n",
       "      <th></th>\n",
       "      <th>Scores2</th>\n",
       "    </tr>\n",
       "  </thead>\n",
       "  <tbody>\n",
       "    <tr>\n",
       "      <th>0</th>\n",
       "      <td>0.798372</td>\n",
       "    </tr>\n",
       "    <tr>\n",
       "      <th>1</th>\n",
       "      <td>0.799829</td>\n",
       "    </tr>\n",
       "    <tr>\n",
       "      <th>2</th>\n",
       "      <td>0.797870</td>\n",
       "    </tr>\n",
       "    <tr>\n",
       "      <th>3</th>\n",
       "      <td>0.800070</td>\n",
       "    </tr>\n",
       "    <tr>\n",
       "      <th>4</th>\n",
       "      <td>0.793136</td>\n",
       "    </tr>\n",
       "  </tbody>\n",
       "</table>\n",
       "</div>"
      ],
      "text/plain": [
       "    Scores2\n",
       "0  0.798372\n",
       "1  0.799829\n",
       "2  0.797870\n",
       "3  0.800070\n",
       "4  0.793136"
      ]
     },
     "execution_count": 75,
     "metadata": {},
     "output_type": "execute_result"
    }
   ],
   "source": [
    "scores2 = pd.DataFrame(clf_scores,columns=['Scores2']) # saving the results into pandas dataframe\n",
    "scores2.head()"
   ]
  },
  {
   "cell_type": "code",
   "execution_count": 76,
   "id": "03a4de8d",
   "metadata": {},
   "outputs": [
    {
     "name": "stdout",
     "output_type": "stream",
     "text": [
      "Feature: 0, Score: 0.01699\n",
      "Feature: 1, Score: 0.67376\n",
      "Feature: 2, Score: 0.10500\n",
      "Feature: 3, Score: 0.19203\n",
      "Feature: 4, Score: 0.01222\n"
     ]
    }
   ],
   "source": [
    "# define the model\n",
    "model = DecisionTreeClassifier()\n",
    "# fit the model\n",
    "model.fit(X1, y1)\n",
    "# get importance\n",
    "importance = model.feature_importances_\n",
    "# summarize feature importance\n",
    "for i,v in enumerate(importance):\n",
    "    print('Feature: %0d, Score: %.5f' % (i,v))\n",
    "# plot feature importance"
   ]
  },
  {
   "cell_type": "markdown",
   "id": "4797d55c",
   "metadata": {},
   "source": [
    "* Random forest algorithm, using platform_dataframe, feature 2 (date) is the most important feature in predicting the target variable response."
   ]
  },
  {
   "cell_type": "code",
   "execution_count": 77,
   "id": "b42a1880",
   "metadata": {
    "scrolled": false
   },
   "outputs": [
    {
     "name": "stdout",
     "output_type": "stream",
     "text": [
      "step 0: Validation Accuracy of RandomForest is: 0.801\n",
      "step 0: Validation Loss of Randomforest is: 0.446\n",
      "\n",
      "step 1: Validation Accuracy of RandomForest is: 0.798\n",
      "step 1: Validation Loss of Randomforest is: 0.449\n",
      "\n",
      "step 2: Validation Accuracy of RandomForest is: 0.797\n",
      "step 2: Validation Loss of Randomforest is: 0.451\n",
      "\n",
      "step 3: Validation Accuracy of RandomForest is: 0.801\n",
      "step 3: Validation Loss of Randomforest is: 0.446\n",
      "\n",
      "step 4: Validation Accuracy of RandomForest is: 0.793\n",
      "step 4: Validation Loss of Randomforest is: 0.454\n",
      "\n"
     ]
    }
   ],
   "source": [
    "import sys, os\n",
    "sys.path.insert(0,'../scripts/')\n",
    "\n",
    "from Reg_script import RandomForest\n",
    "\n",
    "RForest = RandomForest(X1_train, X1_test,  y1_train, y1_test)\n",
    "clf3, acc_arr, loss_arr = RForest.train(5)\n",
    "RForest.write_model('browser_os_RForest_model', clf3)"
   ]
  },
  {
   "cell_type": "markdown",
   "id": "c7320163",
   "metadata": {},
   "source": [
    "## calculatting P-value"
   ]
  },
  {
   "cell_type": "code",
   "execution_count": 79,
   "id": "778c9600",
   "metadata": {},
   "outputs": [],
   "source": [
    "# calculating p-value\n",
    "def get_p_values(df):\n",
    "    \"\"\" \n",
    "    Calcualting p_values for logestic regression.\n",
    "    code refered from the following link\n",
    "    https://gist.github.com/rspeare/77061e6e317896be29c6de9a85db301d\n",
    "    \n",
    "    \"\"\"\n",
    "    denom = (2.0*(1.0+np.cosh(df.clf.decision_function(X))))\n",
    "    denom = np.tile(denom,(X.shape[1],1)).T\n",
    "    F_ij = np.dot((X/denom).T,X) ## Fisher Information Matrix\n",
    "    Cramer_Rao = np.linalg.inv(F_ij) ## Inverse Information Matrix\n",
    "    sigma_estimates = np.sqrt(np.diagonal(Cramer_Rao))\n",
    "    z_scores = df.clf.coef_[0]/sigma_estimates # z-score \n",
    "    p_values = [stat.norm.sf(abs(x)) for x in z_scores] ### two tailed test for p-values\n",
    "    \n",
    "    p_df = pd.DataFrame()\n",
    "    p_df['features'] = df.X_train.columns.to_list()\n",
    "    p_df['p_values'] = p_values\n",
    "    \n",
    "    return p_df\n",
    "    \n",
    "def plot_pvalues(self, p_df):\n",
    "        \n",
    "    fig, ax = plt.subplots(figsize=(12,7))\n",
    "\n",
    "    ax.plot([0.05,0.05], [0.05,5])\n",
    "    sns.scatterplot(data=p_df, y='features', x='p_values', color=\"green\")\n",
    "    plt.title(\"P values of features\", size=20)\n",
    "\n",
    "    plt.xticks(np.arange(0,max(p_df['p_values']) + 0.05, 0.05))\n",
    "\n",
    "    plt.xticks(fontsize=12)\n",
    "    plt.yticks(fontsize=12)\n",
    "\n",
    "    plt.show()"
   ]
  },
  {
   "cell_type": "code",
   "execution_count": 83,
   "id": "17243bca",
   "metadata": {},
   "outputs": [],
   "source": [
    "# p_values_df = get_p_values(RForest)\n",
    "# plot_pvalues(RForest,p_values_df)\n",
    "# p_values_df"
   ]
  },
  {
   "cell_type": "markdown",
   "id": "72a6b018",
   "metadata": {},
   "source": [
    "# Accuracy scores"
   ]
  },
  {
   "cell_type": "code",
   "execution_count": 78,
   "id": "7084aac2",
   "metadata": {},
   "outputs": [
    {
     "name": "stdout",
     "output_type": "stream",
     "text": [
      "Accuracy Scores\n",
      "---------------\n",
      "Logistic Regression: 0.8449850773265805\n",
      "XGBoost: 0.8530342769286425\n",
      "Random Forest: 0.8041059962015014\n"
     ]
    }
   ],
   "source": [
    "##y1_test - Actual value\n",
    "## pred_[model] = the values predicted above\n",
    "\n",
    "# Logistic Regression\n",
    "acc_log = accuracy_score(y1_test, pred_log)\n",
    "# XGBoost \n",
    "acc_xgb = accuracy_score(y1_test, pred_xgb)\n",
    "# Random Forest \n",
    "acc_rf = accuracy_score(y1_test, pred_rf)\n",
    "\n",
    "\n",
    "print(\"Accuracy Scores\")\n",
    "print(\"---------------\")\n",
    "\n",
    "print(\"Logistic Regression:\", acc_log)\n",
    "print(\"XGBoost:\", acc_xgb)\n",
    "print(\"Random Forest:\", acc_rf)"
   ]
  },
  {
   "cell_type": "markdown",
   "id": "1c4fd4d1",
   "metadata": {},
   "source": [
    "# So from the above scores we can conclude that both XG boost and LRyeild the best results while RF is the worst from the 3.\n",
    "- comparing to the AdSmartAB data set, the later model shows huge amount of improvement on crating awearness over the people related to the advert."
   ]
  },
  {
   "cell_type": "code",
   "execution_count": null,
   "id": "48deae2f",
   "metadata": {},
   "outputs": [],
   "source": []
  },
  {
   "cell_type": "code",
   "execution_count": null,
   "id": "d8dd80f3",
   "metadata": {},
   "outputs": [],
   "source": []
  }
 ],
 "metadata": {
  "kernelspec": {
   "display_name": "Python 3 (ipykernel)",
   "language": "python",
   "name": "python3"
  },
  "language_info": {
   "codemirror_mode": {
    "name": "ipython",
    "version": 3
   },
   "file_extension": ".py",
   "mimetype": "text/x-python",
   "name": "python",
   "nbconvert_exporter": "python",
   "pygments_lexer": "ipython3",
   "version": "3.9.7"
  }
 },
 "nbformat": 4,
 "nbformat_minor": 5
}
