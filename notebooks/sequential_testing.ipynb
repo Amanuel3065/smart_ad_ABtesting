{
 "cells": [
  {
   "cell_type": "markdown",
   "metadata": {},
   "source": [
    "# Sequential A/B Testing\n",
    "\n",
    "We will focus on conditional SPRT (Sequential Probability Ratio Test).\n",
    "\n",
    "<u>General steps of conditional SPRT</u>\n",
    "\n",
    "1. Calculate critical upper and lower decision boundaries\n",
    "2. Perform cummlative sum of the observation\n",
    "3. Calculate test statistics(likelihood ratio) for each of the observations\n",
    "4. Calculate upper and lower limits for exposed group\n",
    "5. Apply stopping\\\n",
    "\n",
    "<b>Stopping Rule</b>\n",
    "<li>If the log probability ratio greater than or equal to the upper critical limit then the model reject the null hypothesis with the favor of alternative hypothesis (i.e. accept H1 (conclude that version two is better than version one)) and terminate the test.\n",
    "<li>If the log probability ratio less than or equal to the lower critical limit then accept the null hypothesis (i.e. conclude that there is no difference between the two groups) and terminate the test.\n",
    "<li>If neither critical limit is reached, conduct another trial and continue the test."
   ]
  },
  {
   "cell_type": "markdown",
   "metadata": {},
   "source": [
    "## 1. Fetch Data\n",
    "### 1.1. Get libraries "
   ]
  },
  {
   "cell_type": "code",
   "execution_count": 38,
   "metadata": {},
   "outputs": [
    {
     "name": "stdout",
     "output_type": "stream",
     "text": [
      "../data/AdSmartABdata.csv\n",
      "../data/control_df.csv\n",
      "../data/exposed_df.csv\n"
     ]
    }
   ],
   "source": [
    "# importing libraries\n",
    "\n",
    "import numpy as np\n",
    "import pandas as pd\n",
    "import matplotlib.pyplot as plt\n",
    "import os, sys\n",
    "import datetime\n",
    "import seaborn as sns\n",
    "import scipy.stats as stats\n",
    "from scipy.stats import chi2_contingency, beta, binom\n",
    "from statsmodels.stats.proportion import proportions_ztest\n",
    "from matplotlib.lines import Line2D\n",
    "import plotly.graph_objs as go\n",
    "import matplotlib.ticker as ticker\n",
    "import math\n",
    "\n",
    "# to know which filepath to use to get to the source data\n",
    "import os\n",
    "for dirname, _, filenames in os.walk('../data/'):\n",
    "    for filename in filenames:\n",
    "        print(os.path.join(dirname, filename))"
   ]
  },
  {
   "cell_type": "markdown",
   "metadata": {},
   "source": [
    "### 1.2. Make the Dataframes to be used in this notebook"
   ]
  },
  {
   "cell_type": "code",
   "execution_count": 39,
   "metadata": {},
   "outputs": [],
   "source": [
    "# loading the data from the exposed and the control groups\n",
    "\n",
    "exposed_dataf = pd.read_csv('../data/exposed_df.csv')\n",
    "control_dataf = pd.read_csv('../data/control_df.csv')"
   ]
  },
  {
   "cell_type": "code",
   "execution_count": 40,
   "metadata": {},
   "outputs": [
    {
     "name": "stdout",
     "output_type": "stream",
     "text": [
      "<class 'pandas.core.frame.DataFrame'>\n",
      "RangeIndex: 657 entries, 0 to 656\n",
      "Data columns (total 8 columns):\n",
      " #   Column       Non-Null Count  Dtype \n",
      "---  ------       --------------  ----- \n",
      " 0   auction_id   657 non-null    object\n",
      " 1   experiment   657 non-null    object\n",
      " 2   date         657 non-null    object\n",
      " 3   hour         657 non-null    int64 \n",
      " 4   device_make  657 non-null    object\n",
      " 5   platform_os  657 non-null    int64 \n",
      " 6   browser      657 non-null    object\n",
      " 7   response     657 non-null    int64 \n",
      "dtypes: int64(3), object(5)\n",
      "memory usage: 41.2+ KB\n"
     ]
    }
   ],
   "source": [
    "exposed_dataf.head()\n",
    "exposed_dataf.info()"
   ]
  },
  {
   "cell_type": "markdown",
   "metadata": {},
   "source": [
    "### 1.3. Transform Data\n",
    "(into a form that can be used with the ConditionalSPRT Class)\\\n",
    "The proposed transformations are as follows: \n",
    "<li>grouping the data into hours"
   ]
  },
  {
   "cell_type": "code",
   "execution_count": 41,
   "metadata": {},
   "outputs": [],
   "source": [
    "# the data is already segmented into exposed and control groups\n",
    " "
   ]
  },
  {
   "cell_type": "code",
   "execution_count": 42,
   "metadata": {},
   "outputs": [],
   "source": [
    "# copying dataframes so that we work on their copies\n",
    "\n",
    "exposed_copy= exposed_dataf.copy(deep=True)\n",
    "control_copy = control_dataf.copy(deep=True)"
   ]
  },
  {
   "cell_type": "code",
   "execution_count": 43,
   "metadata": {},
   "outputs": [],
   "source": [
    "# create new column to hold date+hour in both the exposed_copy and control_copy\n",
    "\n",
    "exposed_copy['date+hour'] = exposed_copy['hour'].map(lambda x:  pd.Timestamp(x,tz=None).strftime('%Y-%m-%d:%H'))\n",
    "control_copy['date+hour'] = control_copy['hour'].map(lambda x:  pd.Timestamp(x,tz=None).strftime('%Y-%m-%d:%H'))\n"
   ]
  },
  {
   "cell_type": "code",
   "execution_count": 44,
   "metadata": {},
   "outputs": [],
   "source": [
    "# exposed_copy.head()"
   ]
  },
  {
   "cell_type": "code",
   "execution_count": 45,
   "metadata": {},
   "outputs": [
    {
     "name": "stdout",
     "output_type": "stream",
     "text": [
      "<class 'pandas.core.frame.DataFrame'>\n",
      "RangeIndex: 657 entries, 0 to 656\n",
      "Data columns (total 9 columns):\n",
      " #   Column       Non-Null Count  Dtype \n",
      "---  ------       --------------  ----- \n",
      " 0   auction_id   657 non-null    object\n",
      " 1   experiment   657 non-null    object\n",
      " 2   date         657 non-null    object\n",
      " 3   hour         657 non-null    int64 \n",
      " 4   device_make  657 non-null    object\n",
      " 5   platform_os  657 non-null    int64 \n",
      " 6   browser      657 non-null    object\n",
      " 7   response     657 non-null    int64 \n",
      " 8   date+hour    657 non-null    object\n",
      "dtypes: int64(3), object(6)\n",
      "memory usage: 46.3+ KB\n"
     ]
    }
   ],
   "source": [
    "exposed_copy.info()"
   ]
  },
  {
   "cell_type": "code",
   "execution_count": 46,
   "metadata": {},
   "outputs": [],
   "source": [
    "# doesn't work. \n",
    "# for later (for code modularisation): find way to incorporate two dataframes as the arguments\n",
    "\n",
    "# def transform_data(df1):\n",
    "# # exposed_engagement = exposed_copy['reponse'].to_numpy()\n",
    "# # control_engagement = control_copy['response'].to_numpy()\n",
    "\n",
    "# # generate random binomial distribution \n",
    "\n",
    "\n",
    "#     exposed_copy['engagement'] = exposed_copy['response'] + exposed_copy['response']\n",
    "#     control_copy['engagement'] = control_copy['response'] + control_copy['response']\n",
    "\n",
    "#     exposed_copy['success'] = exposed_copy['response'] \n",
    "#     control_copy['success'] = control_copy['response'] \n",
    "\n",
    "#     expo_p = sum(exposed_copy['success']) / sum(exposed_copy['engagement'])\n",
    "#     cont_p = sum(control_copy['success']) / sum(control_copy['engagement'])\n",
    "\n",
    "#     exposed_engagement = exposed_copy['engagement'].to_numpy()\n",
    "#     control_engagement = control_copy['engagement'].to_numpy()\n",
    "\n",
    "#     exposed_copy_ds = np.random.choice([0, 1], size=((np.sum(exposed_engagement)),), p=[expo_p, 1-expo_p])\n",
    "#     control_copy_ds = np.random.choice([0, 1], size=((np.sum(control_engagement)),), p=[cont_p , 1-cont_p ])\n",
    "\n",
    "#     return exposed_copy_ds, control_copy_ds"
   ]
  },
  {
   "cell_type": "code",
   "execution_count": null,
   "metadata": {},
   "outputs": [],
   "source": [
    "# generate random binomial distributed data streams\n",
    "\n",
    "exposed_copy['engagement'] = exposed_copy['response'] + exposed_copy['response']\n",
    "control_copy['engagement'] = control_copy['response'] + control_copy['response']\n",
    "\n",
    "exposed_copy['success'] = exposed_copy['response'] \n",
    "control_copy['success'] = control_copy['response'] \n",
    "\n",
    "expo_p = sum(exposed_copy['success']) / sum(exposed_copy['engagement'])\n",
    "cont_p = sum(control_copy['success']) / sum(control_copy['engagement'])\n",
    "\n",
    "exposed_engagement = exposed_copy['engagement'].to_numpy()\n",
    "control_engagement = control_copy['engagement'].to_numpy()\n",
    "\n",
    "exposed_copy_ds = np.random.choice([0, 1], size=((np.sum(exposed_engagement)),), p=[expo_p, 1-expo_p])\n",
    "control_copy_ds = np.random.choice([0, 1], size=((np.sum(control_engagement)),), p=[cont_p , 1-cont_p ])\n"
   ]
  },
  {
   "cell_type": "code",
   "execution_count": 54,
   "metadata": {},
   "outputs": [],
   "source": [
    "# ensuring the dataframe has been changed into a datastream\n",
    "\n",
    "print(len(exposed_copy_ds))\n",
    "print(len(control_copy_ds))\n",
    "# control_copy"
   ]
  },
  {
   "cell_type": "code",
   "execution_count": 48,
   "metadata": {},
   "outputs": [],
   "source": [
    "#REFERENCE\n",
    "# A Conditional Sequential Test for the Equality of Two Binomial Proportions\n",
    "# William Q. Meeker, Jr\n",
    "# Journal of the Royal Statistical Society. Series C (Applied Statistics)\n",
    "# Vol. 30, No. 2 (1981), pp. 109-115\n",
    "class ConditionalSPRT:\n",
    "     \n",
    "    def __init__(self, x, y, odd_ratio, alpha=0.05, beta=0.10, stop=None):\n",
    "        self.x = x\n",
    "        self.y = y\n",
    "        self.odd_ratio = odd_ratio\n",
    "        self.alpha = alpha\n",
    "        self.beta = beta\n",
    "        self.stop = stop\n",
    "   \n",
    "    def run(self):\n",
    "        res = conditionalSPRT(self.x, self.y, self.odd_ratio,\n",
    "                              self.alpha, self.beta,\n",
    "                              self.stop)\n",
    "        return res\n",
    "    def resJson(self, res):\n",
    "        outcome,n, k,l,u,truncated,truncate_decision,x1,r,stats,limits = res\n",
    "        jsonRes = {\n",
    "            \"name\": \"Sequential AB testing\",\n",
    "            \"outcome\": outcome,\n",
    "            \"decsionMadeIndex\": k,\n",
    "            \"numberOfObservation\": len(n),\n",
    "            \"truncated\": truncated,\n",
    "            \"truncateDecision\": truncate_decision,        \n",
    "      \n",
    "        }\n",
    "        return jsonRes\n",
    "    \n",
    "    def plotExperiment(self, res):\n",
    "        outcome,n, k,l,u,truncated,truncate_decision,x1,r,stats,limits = res\n",
    "        lower = limits[:, 0]\n",
    "        upper = limits[:,1]\n",
    "\n",
    "        fig, ax = plt.subplots(figsize=(12,7))\n",
    "\n",
    "        ax.plot(n, x1, label='Cumlative value of yes+no')\n",
    "\n",
    "        ax.plot(n, lower, label='Lower Bound', linestyle='--')\n",
    "        ax.plot(n, upper, label='Upper Bound', linestyle='--')\n",
    "\n",
    "        plt.legend()\n",
    "\n",
    "\n",
    "        plt.show()"
   ]
  },
  {
   "cell_type": "code",
   "execution_count": 49,
   "metadata": {},
   "outputs": [],
   "source": [
    "import math\n",
    "def conditionalSPRT(x,y,t1,alpha=0.05,beta=0.10,stop=None):\n",
    "    \"\"\"\n",
    "    #\n",
    "    # Meeker's SPRT for matched `x` (treatment) and `y` (control), \n",
    "    # both indicator responses, likelihood ratio t1, error rates alpha and beta,\n",
    "    # and (optionally) truncation after trial stop.\n",
    "    #\n",
    "    # The return variable contains these elements:\n",
    "    #(outcome,n, k,l,u,truncated,truncate_decision,x1,r,stats,limits)\n",
    "    # * outcome:   \"continue,\" \"reject null,\" or \"accept null\".\n",
    "    # * n: number observation used for the decsion\n",
    "    # * k:     Index at which the outcome decision was made (or NA)\n",
    "    # * l:     lower critical point\n",
    "    # * u:     upper critical point\n",
    "    # * truncate_decision: The approximate decision made after truncate point\n",
    "    # * truncated: If the test was truncated, the value of `n.0`; NA otherwise\n",
    "    # * x1:       Original data `x`, cumulative\n",
    "    # * r:         Cumulative sum of x+y\n",
    "    # * stats:     Series of cumulative sums of log probability ratios\n",
    "    # * limits:    Two rows giving lower and upper critical limits, respectively\n",
    "    #\n",
    "    \"\"\"\n",
    "    \n",
    "    if t1<=1:\n",
    "        print('warning',\"Odd ratio should exceed 1.\")\n",
    "    if (alpha >0.5) | (beta >0.5):\n",
    "        print('warning',\"Unrealistic values of alpha or beta were passed.\"\n",
    "                 +\" You should have good reason to use large alpha & beta values\")\n",
    "    if stop!=None:\n",
    "        stop=math.floor(n0)\n",
    "\n",
    "    def comb(n, k):\n",
    "        return math.factorial(n) // math.factorial(k) // math.factorial(n - k)\n",
    "\n",
    "    def lchoose(b, j):\n",
    "        a=[]\n",
    "        if (type(j) is list) | (isinstance(j,np.ndarray)==True):\n",
    "            if len(j)<2:\n",
    "                j=j[0]\n",
    "        if (type(j) is list) | (isinstance(j,np.ndarray)==True):\n",
    "            for k in j:\n",
    "                n=b\n",
    "                if (0 <= k) & (k<= n):\n",
    "                    a.append(math.log(comb(n,k)))\n",
    "                else:\n",
    "                    a.append(0)\n",
    "        else:\n",
    "            n=b\n",
    "            k=j\n",
    "            if (0 <= k) & (k<= n):\n",
    "                a.append(math.log(comb(n,k)))\n",
    "            else:\n",
    "                a.append(0)\n",
    "\n",
    "        return np.array(a)\n",
    "\n",
    "    def g(x,r,n,t1,t0=1):\n",
    "        return -math.log(h(x,r,n,t1))+math.log(h(x,r,n,t0))\n",
    "\n",
    "    def h(x,r,n,t=1):\n",
    "     \n",
    "        return f(r,n,t,offset=ftermlog(x,r,n,t))\n",
    "\n",
    "    def f(r,n,t,offset=0):\n",
    "        upper=max(0,r-n)\n",
    "        lower=min(n,r)\n",
    "        rng=list(range(upper,lower+1))\n",
    "        return np.sum(fterm(rng,r,n,t,offset))\n",
    "\n",
    "    def fterm(j,r,n,t,offset=0):\n",
    "        ftlog=ftermlog(j,r,n,t,offset)\n",
    "        return np.array([math.exp(ex) for ex in ftlog])\n",
    "\n",
    "    def ftermlog(j,r,n,t,offset=0):\n",
    "    \n",
    "        xx=r-j\n",
    "        lch=lchoose(n,j)\n",
    "        lchdiff=lchoose(n,xx)\n",
    "        lg=np.array(j)*math.log(t)\n",
    "        lgsum=lch+lchdiff\n",
    "        lgsum2=lgsum+lg\n",
    "        lgdiff=lgsum2-offset\n",
    "\n",
    "        return lgdiff\n",
    "\n",
    "    def logf(r,n,t,offset=0):\n",
    "     \n",
    "        z=f(r,n,t,offset)\n",
    "        if z>0:\n",
    "            return math.log(z)\n",
    "        else:\n",
    "            return np.nan\n",
    "\n",
    "    def clowerUpper(r,n,t1c,t0=1,alpha=0.05,beta=0.10):\n",
    "     \n",
    "        offset=ftermlog(math.ceil(r/2),r,n,t1c)\n",
    "        z=logf(r,n,t1c,logf(r,n,t0,offset)+offset)\n",
    "        a=-math.log(alpha/(1-beta))\n",
    "        b=math.log(beta/(1-alpha))\n",
    "        lower=b\n",
    "        upper=1+a\n",
    "        return (np.array([lower,upper])+z)/math.log(t1c/t0)\n",
    "\n",
    "    l=math.log(beta/(1-alpha))\n",
    "    u=-math.log(alpha/(1-beta))\n",
    "    sample_size=min(len(x),len(y))\n",
    "    n=np.array(range(1,sample_size+1))\n",
    "\n",
    "    if stop!=None:\n",
    "        n=np.array([z for z in n if z<=stop])\n",
    "    x1=np.cumsum(x[n-1])\n",
    "    r=x1+np.cumsum(y[n-1])\n",
    "    stats=np.array(list(map(g,x1, r, n, [t1]*len(x1)))) #recurcively calls g\n",
    "     #\n",
    "      # Perform the test by finding the first index, if any, at which `stats`\n",
    "      # falls outside the open interval (l, u).\n",
    "      #\n",
    "    clu=list(map(clowerUpper,r,n,[t1]*len(r),[1]*len(r),[alpha]*len(r), [beta]*len(r)))\n",
    "    limits=[]\n",
    "    for v in clu:\n",
    "        inArray=[]\n",
    "        for vin in v:\n",
    "            inArray.append(math.floor(vin))\n",
    "        limits.append(np.array(inArray))\n",
    "    limits=np.array(limits)\n",
    "\n",
    "    k=np.where((stats>=u) | (stats<=l))\n",
    "    cvalues=stats[k]\n",
    "    if cvalues.shape[0]<1:\n",
    "        k= np.nan\n",
    "        outcome='Unable to conclude.Needs more sample.'\n",
    "    else:\n",
    "        k=np.min(k)\n",
    "        if stats[k]>=u:\n",
    "            outcome=f'Exposed group produced a statistically significant increase.'\n",
    "        else:\n",
    "            outcome='Their is no statistically significant difference between two test groups'\n",
    "    if (stop!=None) & (k==np.nan):\n",
    "      #\n",
    "      # Truncate at trial stop, using Meeker's H0-conservative formula (2.2).\n",
    "      # Leave k=NA to indicate the decision was made due to truncation.\n",
    "      #\n",
    "        c1=clowerUpper(r,stop,t1,alpha,beta)\n",
    "        c1=math.floor(np.mean(c1)-0.5)\n",
    "        if x1[n0]<=c1:\n",
    "            truncate_decision='h0'\n",
    "            outcome='Maximum Limit Decision. The aproximate decision point shows their is no statistically significant difference between two test groups'\n",
    "        else:\n",
    "            truncate_decision='h1'\n",
    "            outcome=f'Maximum Limit Decision. The aproximate decision point shows exposed group produced a statistically significant increase.'\n",
    "        truncated=stop\n",
    "    else:\n",
    "        truncate_decision='Non'\n",
    "        truncated=np.nan\n",
    "    return (outcome,n, k,l,u,truncated,truncate_decision,x1,r,stats,limits)"
   ]
  },
  {
   "cell_type": "code",
   "execution_count": null,
   "metadata": {},
   "outputs": [],
   "source": [
    "exposed_group = exposed_copy_ds\n",
    "control_group = control_copy_ds\n",
    "odd_ratio = 1.01\n",
    "alpha = 0.05\n",
    "beta = 0.1"
   ]
  },
  {
   "cell_type": "code",
   "execution_count": 50,
   "metadata": {},
   "outputs": [],
   "source": [
    "# exposed_group,control_group = transform_data(exposed_copy)\n",
    "# odd_ratio = 1.01\n",
    "# alpha = 0.05\n",
    "# beta = 0.1"
   ]
  },
  {
   "cell_type": "code",
   "execution_count": 51,
   "metadata": {},
   "outputs": [],
   "source": [
    "conditionalSPRTObj = ConditionalSPRT(exposed_group,control_group, odd_ratio, alpha, beta)"
   ]
  },
  {
   "cell_type": "code",
   "execution_count": 52,
   "metadata": {},
   "outputs": [],
   "source": [
    "res = conditionalSPRTObj.run()"
   ]
  },
  {
   "cell_type": "code",
   "execution_count": 53,
   "metadata": {},
   "outputs": [
    {
     "data": {
      "image/png": "[encoded data removed]",
      "text/plain": [
       "<Figure size 864x504 with 1 Axes>"
      ]
     },
     "metadata": {
      "needs_background": "light"
     },
     "output_type": "display_data"
    }
   ],
   "source": [
    "conditionalSPRTObj.plotExperiment(res)"
   ]
  },
  {
   "cell_type": "markdown",
   "metadata": {},
   "source": [
    "From the plot above, neither Type I Error(exceeding the upper bound) nor Type II Error(going below the lower bound)\\\n",
    "is exhibited.<br><br>\n",
    "\n",
    "Therefore, the null hypothesis (that exposing users to the smartads will not increase brand awareness) is accepted.\\\n",
    "<br>The conclusion of the Sequential A/B Testing is that: there is no significant change in the conversion rate in the group exposed to the smartads."
   ]
  },
  {
   "cell_type": "markdown",
   "metadata": {},
   "source": [
    "From Classical A/B Testing:\\\n",
    "\"...The p value calculated is much greater than the level of significance, which is 0.05.\\\n",
    "This means we can't reject the null hypothesis, and there is no statistically significant difference between the dummy and 'new' adverts.\""
   ]
  }
 ],
 "metadata": {
  "kernelspec": {
   "display_name": "Python 3 (ipykernel)",
   "language": "python",
   "name": "python3"
  },
  "language_info": {
   "codemirror_mode": {
    "name": "ipython",
    "version": 3
   },
   "file_extension": ".py",
   "mimetype": "text/x-python",
   "name": "python",
   "nbconvert_exporter": "python",
   "pygments_lexer": "ipython3",
   "version": "3.9.12"
  },
  "vscode": {
   "interpreter": {
    "hash": "9269d9efe3709a63039242d1ae29ea6ff1d85064e3447d42bee1722ca3623cd4"
   }
  }
 },
 "nbformat": 4,
 "nbformat_minor": 4
}
