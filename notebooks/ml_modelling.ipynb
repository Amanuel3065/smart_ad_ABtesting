{
 "cells": [
  {
   "cell_type": "markdown",
   "id": "fd3e5046",
   "metadata": {},
   "source": [
    "## Import the libraries and the dataset"
   ]
  },
  {
   "cell_type": "code",
   "execution_count": 1,
   "id": "dd931cd9",
   "metadata": {},
   "outputs": [],
   "source": [
    "# Importing Pandas an Numpy Libraries to use on manipulating our Data\n",
    "import pandas as pd\n",
    "import numpy as np\n",
    "\n",
    "# To Preproccesing our data\n",
    "from sklearn.preprocessing import LabelEncoder\n",
    "\n",
    "# To fill missing values\n",
    "from sklearn.impute import SimpleImputer\n",
    "\n",
    "# To Split our train data\n",
    "from sklearn.model_selection import train_test_split\n",
    "\n",
    "# To Visualize Data\n",
    "import matplotlib.pyplot as plt\n",
    "import seaborn as sns\n",
    "\n",
    "# To Train our data\n",
    "from xgboost import XGBClassifier\n",
    "from sklearn.tree import DecisionTreeClassifier\n",
    "from sklearn.ensemble import RandomForestClassifier\n",
    "from sklearn.neighbors import KNeighborsClassifier\n",
    "from sklearn.linear_model import LogisticRegression\n",
    "from sklearn.naive_bayes import BernoulliNB, GaussianNB\n",
    "\n",
    "# To evaluate end result we have\n",
    "from sklearn.metrics import accuracy_score, confusion_matrix\n",
    "from sklearn.model_selection import LeaveOneOut\n",
    "from sklearn.model_selection import cross_val_score\n",
    "\n",
    "#Adding scripts path\n",
    "import sys, os\n",
    "sys.path.insert(0,'../scripts/')\n",
    "\n",
    "from data_Preprocess import CleanDataFrame\n",
    "from data_info import DataInfo \n",
    "from VisualisationPlots import VisualiseDf\n",
    "\n"
   ]
  },
  {
   "cell_type": "markdown",
   "id": "cb845106",
   "metadata": {},
   "source": [
    "## Exploring the dataset that we have"
   ]
  },
  {
   "cell_type": "code",
   "execution_count": 2,
   "id": "17e228ca",
   "metadata": {},
   "outputs": [
    {
     "data": {
      "text/html": [
       "<div>\n",
       "<style scoped>\n",
       "    .dataframe tbody tr th:only-of-type {\n",
       "        vertical-align: middle;\n",
       "    }\n",
       "\n",
       "    .dataframe tbody tr th {\n",
       "        vertical-align: top;\n",
       "    }\n",
       "\n",
       "    .dataframe thead th {\n",
       "        text-align: right;\n",
       "    }\n",
       "</style>\n",
       "<table border=\"1\" class=\"dataframe\">\n",
       "  <thead>\n",
       "    <tr style=\"text-align: right;\">\n",
       "      <th></th>\n",
       "      <th>auction_id</th>\n",
       "      <th>experiment</th>\n",
       "      <th>date</th>\n",
       "      <th>hour</th>\n",
       "      <th>device_make</th>\n",
       "      <th>platform_os</th>\n",
       "      <th>browser</th>\n",
       "      <th>yes</th>\n",
       "      <th>no</th>\n",
       "    </tr>\n",
       "  </thead>\n",
       "  <tbody>\n",
       "    <tr>\n",
       "      <th>0</th>\n",
       "      <td>0008ef63-77a7-448b-bd1e-075f42c55e39</td>\n",
       "      <td>exposed</td>\n",
       "      <td>2020-07-10</td>\n",
       "      <td>8</td>\n",
       "      <td>Generic Smartphone</td>\n",
       "      <td>6</td>\n",
       "      <td>Chrome Mobile</td>\n",
       "      <td>0</td>\n",
       "      <td>0</td>\n",
       "    </tr>\n",
       "    <tr>\n",
       "      <th>1</th>\n",
       "      <td>000eabc5-17ce-4137-8efe-44734d914446</td>\n",
       "      <td>exposed</td>\n",
       "      <td>2020-07-07</td>\n",
       "      <td>10</td>\n",
       "      <td>Generic Smartphone</td>\n",
       "      <td>6</td>\n",
       "      <td>Chrome Mobile</td>\n",
       "      <td>0</td>\n",
       "      <td>0</td>\n",
       "    </tr>\n",
       "    <tr>\n",
       "      <th>2</th>\n",
       "      <td>0016d14a-ae18-4a02-a204-6ba53b52f2ed</td>\n",
       "      <td>exposed</td>\n",
       "      <td>2020-07-05</td>\n",
       "      <td>2</td>\n",
       "      <td>E5823</td>\n",
       "      <td>6</td>\n",
       "      <td>Chrome Mobile WebView</td>\n",
       "      <td>0</td>\n",
       "      <td>1</td>\n",
       "    </tr>\n",
       "    <tr>\n",
       "      <th>3</th>\n",
       "      <td>00187412-2932-4542-a8ef-3633901c98d9</td>\n",
       "      <td>control</td>\n",
       "      <td>2020-07-03</td>\n",
       "      <td>15</td>\n",
       "      <td>Samsung SM-A705FN</td>\n",
       "      <td>6</td>\n",
       "      <td>Facebook</td>\n",
       "      <td>0</td>\n",
       "      <td>0</td>\n",
       "    </tr>\n",
       "    <tr>\n",
       "      <th>4</th>\n",
       "      <td>001a7785-d3fe-4e11-a344-c8735acacc2c</td>\n",
       "      <td>control</td>\n",
       "      <td>2020-07-03</td>\n",
       "      <td>15</td>\n",
       "      <td>Generic Smartphone</td>\n",
       "      <td>6</td>\n",
       "      <td>Chrome Mobile</td>\n",
       "      <td>0</td>\n",
       "      <td>0</td>\n",
       "    </tr>\n",
       "  </tbody>\n",
       "</table>\n",
       "</div>"
      ],
      "text/plain": [
       "                             auction_id experiment        date  hour  \\\n",
       "0  0008ef63-77a7-448b-bd1e-075f42c55e39    exposed  2020-07-10     8   \n",
       "1  000eabc5-17ce-4137-8efe-44734d914446    exposed  2020-07-07    10   \n",
       "2  0016d14a-ae18-4a02-a204-6ba53b52f2ed    exposed  2020-07-05     2   \n",
       "3  00187412-2932-4542-a8ef-3633901c98d9    control  2020-07-03    15   \n",
       "4  001a7785-d3fe-4e11-a344-c8735acacc2c    control  2020-07-03    15   \n",
       "\n",
       "          device_make  platform_os                browser  yes  no  \n",
       "0  Generic Smartphone            6          Chrome Mobile    0   0  \n",
       "1  Generic Smartphone            6          Chrome Mobile    0   0  \n",
       "2               E5823            6  Chrome Mobile WebView    0   1  \n",
       "3   Samsung SM-A705FN            6               Facebook    0   0  \n",
       "4  Generic Smartphone            6          Chrome Mobile    0   0  "
      ]
     },
     "execution_count": 2,
     "metadata": {},
     "output_type": "execute_result"
    }
   ],
   "source": [
    "# importing dataset\n",
    "df = pd.read_csv(\"../dataOLD/AdSmartABdata.csv\")\n",
    "df.head()\n"
   ]
  },
  {
   "cell_type": "code",
   "execution_count": 3,
   "id": "7b841c85",
   "metadata": {},
   "outputs": [
    {
     "data": {
      "text/html": [
       "<div>\n",
       "<style scoped>\n",
       "    .dataframe tbody tr th:only-of-type {\n",
       "        vertical-align: middle;\n",
       "    }\n",
       "\n",
       "    .dataframe tbody tr th {\n",
       "        vertical-align: top;\n",
       "    }\n",
       "\n",
       "    .dataframe thead th {\n",
       "        text-align: right;\n",
       "    }\n",
       "</style>\n",
       "<table border=\"1\" class=\"dataframe\">\n",
       "  <thead>\n",
       "    <tr style=\"text-align: right;\">\n",
       "      <th></th>\n",
       "      <th>auction_id</th>\n",
       "      <th>experiment</th>\n",
       "      <th>date</th>\n",
       "      <th>hour</th>\n",
       "      <th>device_make</th>\n",
       "      <th>platform_os</th>\n",
       "      <th>browser</th>\n",
       "      <th>yes</th>\n",
       "      <th>no</th>\n",
       "    </tr>\n",
       "  </thead>\n",
       "  <tbody>\n",
       "    <tr>\n",
       "      <th>16</th>\n",
       "      <td>008aafdf-deef-4482-8fec-d98e3da054da</td>\n",
       "      <td>exposed</td>\n",
       "      <td>2020-07-04</td>\n",
       "      <td>16</td>\n",
       "      <td>Generic Smartphone</td>\n",
       "      <td>6</td>\n",
       "      <td>Chrome Mobile</td>\n",
       "      <td>1</td>\n",
       "      <td>0</td>\n",
       "    </tr>\n",
       "    <tr>\n",
       "      <th>23</th>\n",
       "      <td>00b6fadb-10bd-49e3-a778-290da82f7a8d</td>\n",
       "      <td>control</td>\n",
       "      <td>2020-07-08</td>\n",
       "      <td>4</td>\n",
       "      <td>Samsung SM-A202F</td>\n",
       "      <td>6</td>\n",
       "      <td>Facebook</td>\n",
       "      <td>1</td>\n",
       "      <td>0</td>\n",
       "    </tr>\n",
       "    <tr>\n",
       "      <th>45</th>\n",
       "      <td>018af862-486e-4da1-a85b-71872120e57c</td>\n",
       "      <td>control</td>\n",
       "      <td>2020-07-03</td>\n",
       "      <td>15</td>\n",
       "      <td>Generic Smartphone</td>\n",
       "      <td>6</td>\n",
       "      <td>Chrome Mobile</td>\n",
       "      <td>1</td>\n",
       "      <td>0</td>\n",
       "    </tr>\n",
       "    <tr>\n",
       "      <th>65</th>\n",
       "      <td>023ec7b5-cb8f-49a5-995f-e0d7c2f702e5</td>\n",
       "      <td>exposed</td>\n",
       "      <td>2020-07-09</td>\n",
       "      <td>13</td>\n",
       "      <td>Samsung SM-G935F</td>\n",
       "      <td>6</td>\n",
       "      <td>Facebook</td>\n",
       "      <td>1</td>\n",
       "      <td>0</td>\n",
       "    </tr>\n",
       "    <tr>\n",
       "      <th>89</th>\n",
       "      <td>02efdb70-8596-4f3f-b0b2-b91e194f61f7</td>\n",
       "      <td>exposed</td>\n",
       "      <td>2020-07-05</td>\n",
       "      <td>6</td>\n",
       "      <td>Generic Smartphone</td>\n",
       "      <td>6</td>\n",
       "      <td>Chrome Mobile</td>\n",
       "      <td>1</td>\n",
       "      <td>0</td>\n",
       "    </tr>\n",
       "  </tbody>\n",
       "</table>\n",
       "</div>"
      ],
      "text/plain": [
       "                              auction_id experiment        date  hour  \\\n",
       "16  008aafdf-deef-4482-8fec-d98e3da054da    exposed  2020-07-04    16   \n",
       "23  00b6fadb-10bd-49e3-a778-290da82f7a8d    control  2020-07-08     4   \n",
       "45  018af862-486e-4da1-a85b-71872120e57c    control  2020-07-03    15   \n",
       "65  023ec7b5-cb8f-49a5-995f-e0d7c2f702e5    exposed  2020-07-09    13   \n",
       "89  02efdb70-8596-4f3f-b0b2-b91e194f61f7    exposed  2020-07-05     6   \n",
       "\n",
       "           device_make  platform_os        browser  yes  no  \n",
       "16  Generic Smartphone            6  Chrome Mobile    1   0  \n",
       "23    Samsung SM-A202F            6       Facebook    1   0  \n",
       "45  Generic Smartphone            6  Chrome Mobile    1   0  \n",
       "65    Samsung SM-G935F            6       Facebook    1   0  \n",
       "89  Generic Smartphone            6  Chrome Mobile    1   0  "
      ]
     },
     "execution_count": 3,
     "metadata": {},
     "output_type": "execute_result"
    }
   ],
   "source": [
    "# getting users who only answers yes or no\n",
    "response = df[df['yes'] == 1].append(df[df['no'] == 1])\n",
    "response.head(5)"
   ]
  },
  {
   "cell_type": "code",
   "execution_count": 4,
   "id": "f89fbca9",
   "metadata": {},
   "outputs": [
    {
     "data": {
      "text/html": [
       "<div>\n",
       "<style scoped>\n",
       "    .dataframe tbody tr th:only-of-type {\n",
       "        vertical-align: middle;\n",
       "    }\n",
       "\n",
       "    .dataframe tbody tr th {\n",
       "        vertical-align: top;\n",
       "    }\n",
       "\n",
       "    .dataframe thead th {\n",
       "        text-align: right;\n",
       "    }\n",
       "</style>\n",
       "<table border=\"1\" class=\"dataframe\">\n",
       "  <thead>\n",
       "    <tr style=\"text-align: right;\">\n",
       "      <th></th>\n",
       "      <th>auction_id</th>\n",
       "      <th>experiment</th>\n",
       "      <th>date</th>\n",
       "      <th>hour</th>\n",
       "      <th>device_make</th>\n",
       "      <th>platform_os</th>\n",
       "      <th>browser</th>\n",
       "      <th>response</th>\n",
       "    </tr>\n",
       "  </thead>\n",
       "  <tbody>\n",
       "    <tr>\n",
       "      <th>0</th>\n",
       "      <td>008aafdf-deef-4482-8fec-d98e3da054da</td>\n",
       "      <td>exposed</td>\n",
       "      <td>2020-07-04</td>\n",
       "      <td>16</td>\n",
       "      <td>Generic Smartphone</td>\n",
       "      <td>6</td>\n",
       "      <td>Chrome Mobile</td>\n",
       "      <td>1</td>\n",
       "    </tr>\n",
       "    <tr>\n",
       "      <th>1</th>\n",
       "      <td>00b6fadb-10bd-49e3-a778-290da82f7a8d</td>\n",
       "      <td>control</td>\n",
       "      <td>2020-07-08</td>\n",
       "      <td>4</td>\n",
       "      <td>Samsung SM-A202F</td>\n",
       "      <td>6</td>\n",
       "      <td>Facebook</td>\n",
       "      <td>1</td>\n",
       "    </tr>\n",
       "    <tr>\n",
       "      <th>2</th>\n",
       "      <td>018af862-486e-4da1-a85b-71872120e57c</td>\n",
       "      <td>control</td>\n",
       "      <td>2020-07-03</td>\n",
       "      <td>15</td>\n",
       "      <td>Generic Smartphone</td>\n",
       "      <td>6</td>\n",
       "      <td>Chrome Mobile</td>\n",
       "      <td>1</td>\n",
       "    </tr>\n",
       "    <tr>\n",
       "      <th>3</th>\n",
       "      <td>023ec7b5-cb8f-49a5-995f-e0d7c2f702e5</td>\n",
       "      <td>exposed</td>\n",
       "      <td>2020-07-09</td>\n",
       "      <td>13</td>\n",
       "      <td>Samsung SM-G935F</td>\n",
       "      <td>6</td>\n",
       "      <td>Facebook</td>\n",
       "      <td>1</td>\n",
       "    </tr>\n",
       "    <tr>\n",
       "      <th>4</th>\n",
       "      <td>02efdb70-8596-4f3f-b0b2-b91e194f61f7</td>\n",
       "      <td>exposed</td>\n",
       "      <td>2020-07-05</td>\n",
       "      <td>6</td>\n",
       "      <td>Generic Smartphone</td>\n",
       "      <td>6</td>\n",
       "      <td>Chrome Mobile</td>\n",
       "      <td>1</td>\n",
       "    </tr>\n",
       "  </tbody>\n",
       "</table>\n",
       "</div>"
      ],
      "text/plain": [
       "                             auction_id experiment        date  hour  \\\n",
       "0  008aafdf-deef-4482-8fec-d98e3da054da    exposed  2020-07-04    16   \n",
       "1  00b6fadb-10bd-49e3-a778-290da82f7a8d    control  2020-07-08     4   \n",
       "2  018af862-486e-4da1-a85b-71872120e57c    control  2020-07-03    15   \n",
       "3  023ec7b5-cb8f-49a5-995f-e0d7c2f702e5    exposed  2020-07-09    13   \n",
       "4  02efdb70-8596-4f3f-b0b2-b91e194f61f7    exposed  2020-07-05     6   \n",
       "\n",
       "          device_make  platform_os        browser  response  \n",
       "0  Generic Smartphone            6  Chrome Mobile         1  \n",
       "1    Samsung SM-A202F            6       Facebook         1  \n",
       "2  Generic Smartphone            6  Chrome Mobile         1  \n",
       "3    Samsung SM-G935F            6       Facebook         1  \n",
       "4  Generic Smartphone            6  Chrome Mobile         1  "
      ]
     },
     "execution_count": 4,
     "metadata": {},
     "output_type": "execute_result"
    }
   ],
   "source": [
    "# merge the yes and no columns into a single response column\n",
    "df1 = response[response['yes'] == 1].drop(['yes','no'], axis = 1)\n",
    "df1['response'] = 1\n",
    "df2 = response[response['no'] == 1].drop(['yes','no'], axis = 1)\n",
    "df2['response'] = 0\n",
    "response_clean = df1.append(df2).reset_index(drop=True)\n",
    "response_clean.head(5)"
   ]
  },
  {
   "cell_type": "code",
   "execution_count": 5,
   "id": "9418e046",
   "metadata": {},
   "outputs": [],
   "source": [
    "# save\n",
    "response_clean.to_csv('../data/clean_AdSmartABdata.csv')"
   ]
  },
  {
   "attachments": {},
   "cell_type": "markdown",
   "id": "e3b2e25b",
   "metadata": {},
   "source": [
    "* Here at this point, a first version of the data into gdrive was saved. \n",
    "\n",
    "<img src=\"../data/push_v1.jpg\"\n",
    "     alt=\"version1\"\n",
    "     style=\"float:left;margin-right:10px;\">"
   ]
  },
  {
   "cell_type": "code",
   "execution_count": 6,
   "id": "3c915aa6",
   "metadata": {},
   "outputs": [],
   "source": [
    "# One hot encoder\n",
    "\n",
    "from sklearn.preprocessing import LabelEncoder\n",
    "\n",
    "label_encoder = LabelEncoder()\n",
    "# \n",
    "response_clean['experiment'] = label_encoder.fit_transform(response_clean['experiment'])\n",
    "response_clean['date'] = label_encoder.fit_transform(response_clean['date'])\n",
    "response_clean['hour'] = label_encoder.fit_transform(response_clean['hour'])\n",
    "response_clean['device_make'] = label_encoder.fit_transform(response_clean['device_make'])\n",
    "response_clean['platform_os'] = label_encoder.fit_transform(response_clean['platform_os'])\n",
    "response_clean['browser'] = label_encoder.fit_transform(response_clean['browser'])\n",
    "response_clean['response'] = label_encoder.fit_transform(response_clean['response'])"
   ]
  },
  {
   "cell_type": "code",
   "execution_count": 7,
   "id": "71103bd5",
   "metadata": {},
   "outputs": [],
   "source": [
    "# browser only df\n",
    "browser_df = response_clean[[\"experiment\", \"date\", \"hour\", \"device_make\", \"browser\", \"response\"]]\n",
    "browser_df.to_csv(\"../data/clean_AdSmartABdata.csv\")"
   ]
  },
  {
   "attachments": {},
   "cell_type": "markdown",
   "id": "f10fcf27",
   "metadata": {},
   "source": [
    "* browser only df was saved using dvc from bash terminal. So thats why there are two folders the first one is for the first versioning as shown above.\n",
    "\n",
    "<img src=\"../data/browser_encoded.jpg\"\n",
    "     alt=\"Browser encoded V1\"\n",
    "     style=\"float:left;margin-right:10px;\">"
   ]
  },
  {
   "cell_type": "code",
   "execution_count": 8,
   "id": "e81d5a75",
   "metadata": {},
   "outputs": [],
   "source": [
    "# and do the same to get 'platform_df'\n",
    "platfrom_df = response_clean[[\"experiment\", \"date\" , \"hour\", \"device_make\", \"platform_os\", \"response\"]]\n",
    "platfrom_df.to_csv(\"../data/clean_AdSmartABdata.csv\")"
   ]
  },
  {
   "cell_type": "markdown",
   "id": "89be1bd1",
   "metadata": {},
   "source": [
    "* Platform encoded V1\n",
    "\n",
    "<img src=\"../data/platformEncV1.jpg\"\n",
    "alt=\"Browser encoded V1\"\n",
    "style=\"float:left;margin-right:10px;\">"
   ]
  },
  {
   "cell_type": "markdown",
   "id": "b847d63f",
   "metadata": {},
   "source": [
    "# Splitting the data for training\n"
   ]
  },
  {
   "cell_type": "code",
   "execution_count": 9,
   "id": "a3b2f3ab",
   "metadata": {},
   "outputs": [],
   "source": [
    "# For browser df: X1: prediction freatures,y1:target feature\n",
    "X1 = browser_df.drop('response', axis=1) #prediction feature\n",
    "y1 = browser_df['response'] #target feature\n",
    "# \n",
    "# For Platform df: X11: prediction freatures,y11:target feature\n",
    "X11 = platfrom_df.drop('response', axis=1) #prediction features\n",
    "y11 = platfrom_df['response'] #target feature"
   ]
  },
  {
   "cell_type": "code",
   "execution_count": 10,
   "id": "201eede0",
   "metadata": {},
   "outputs": [],
   "source": [
    "# Splitting our dataset into training and testing dataset\n",
    "#training set 70%, 20% validation, test set 10%\n",
    "\n",
    "X1_train, X1_test, y1_train, y1_test = train_test_split(X1, y1, test_size=0.1, random_state=42)\n",
    "\n",
    "X11_train, X11_test, y11_train, y11_test = train_test_split(X11, y11, test_size=0.1, random_state=42)\n"
   ]
  },
  {
   "cell_type": "markdown",
   "id": "89f57318",
   "metadata": {},
   "source": [
    "# 1. Logistic regression\n",
    "\n",
    "### 1.1 using Browser df"
   ]
  },
  {
   "cell_type": "markdown",
   "id": "0f410ba4",
   "metadata": {},
   "source": [
    "* Cross validation is a statistical method used to estimate the skill of machine learning models. For a k-fold cross validation, there are common tactics that can be used to choose k. In our case k = 5."
   ]
  },
  {
   "cell_type": "code",
   "execution_count": 11,
   "id": "8f2a2e36",
   "metadata": {},
   "outputs": [
    {
     "name": "stdout",
     "output_type": "stream",
     "text": [
      "Predicted: [0 0 1 0 0 0 0 0 1 0]\n",
      "Actual: 900     0\n",
      "1003    0\n",
      "671     0\n",
      "620     0\n",
      "926     0\n",
      "997     0\n",
      "745     0\n",
      "938     0\n",
      "451     1\n",
      "439     1\n",
      "Name: response, dtype: int64\n"
     ]
    }
   ],
   "source": [
    "# Define Logistic Regression Model\n",
    "log = LogisticRegression()\n",
    "# We fit our model with our train data\n",
    "log.fit(X1_train, y1_train)\n",
    "# Then predict results from X_test data\n",
    "pred_log = log.predict(X1_test)\n",
    "\n",
    "# See First 10 Predictions and They Actual Values\n",
    "print(\"Predicted:\", pred_log[0:10])\n",
    "print(\"Actual:\", y1_test[0:10])"
   ]
  },
  {
   "cell_type": "code",
   "execution_count": 12,
   "id": "b2470206",
   "metadata": {},
   "outputs": [
    {
     "name": "stdout",
     "output_type": "stream",
     "text": [
      "[0.54017857 0.52678571 0.57589286 0.53363229 0.52914798]\n",
      "Mean LogisticRegression score : 0.5411274823830878\n"
     ]
    }
   ],
   "source": [
    "# Applying the 5-fold Cross validation on logistic Regression model\n",
    "regressor=LogisticRegression(random_state=None)\n",
    "regressor.fit(X1_train,y1_train) \n",
    "scores=cross_val_score(estimator=regressor,X=X1_train,y=y1_train,cv=5,scoring='accuracy')\n",
    "print(scores)\n",
    "print('Mean LogisticRegression score :',scores.mean())"
   ]
  },
  {
   "cell_type": "code",
   "execution_count": 13,
   "id": "a378a058",
   "metadata": {},
   "outputs": [
    {
     "data": {
      "text/html": [
       "<div>\n",
       "<style scoped>\n",
       "    .dataframe tbody tr th:only-of-type {\n",
       "        vertical-align: middle;\n",
       "    }\n",
       "\n",
       "    .dataframe tbody tr th {\n",
       "        vertical-align: top;\n",
       "    }\n",
       "\n",
       "    .dataframe thead th {\n",
       "        text-align: right;\n",
       "    }\n",
       "</style>\n",
       "<table border=\"1\" class=\"dataframe\">\n",
       "  <thead>\n",
       "    <tr style=\"text-align: right;\">\n",
       "      <th></th>\n",
       "      <th>Scores</th>\n",
       "    </tr>\n",
       "  </thead>\n",
       "  <tbody>\n",
       "    <tr>\n",
       "      <th>0</th>\n",
       "      <td>0.540179</td>\n",
       "    </tr>\n",
       "    <tr>\n",
       "      <th>1</th>\n",
       "      <td>0.526786</td>\n",
       "    </tr>\n",
       "    <tr>\n",
       "      <th>2</th>\n",
       "      <td>0.575893</td>\n",
       "    </tr>\n",
       "    <tr>\n",
       "      <th>3</th>\n",
       "      <td>0.533632</td>\n",
       "    </tr>\n",
       "    <tr>\n",
       "      <th>4</th>\n",
       "      <td>0.529148</td>\n",
       "    </tr>\n",
       "  </tbody>\n",
       "</table>\n",
       "</div>"
      ],
      "text/plain": [
       "     Scores\n",
       "0  0.540179\n",
       "1  0.526786\n",
       "2  0.575893\n",
       "3  0.533632\n",
       "4  0.529148"
      ]
     },
     "execution_count": 13,
     "metadata": {},
     "output_type": "execute_result"
    }
   ],
   "source": [
    "# save score\n",
    "scores1 = pd.DataFrame(scores,columns=['Scores']) \n",
    "scores1.head()"
   ]
  },
  {
   "cell_type": "code",
   "execution_count": 14,
   "id": "81409bed",
   "metadata": {},
   "outputs": [
    {
     "data": {
      "image/png": "[encoded data removed]",
      "text/plain": [
       "<Figure size 432x288 with 1 Axes>"
      ]
     },
     "metadata": {},
     "output_type": "display_data"
    }
   ],
   "source": [
    "# plotting the accuracy score\n",
    "sns.set(style=\"dark\", rc={\"lines.linewidth\": 9})\n",
    "sns.barplot(x=['experiment','date','hour','devicemake','browser'],y=\"Scores\",data=scores1, color=\"cyan\")\n",
    "plt.show()\n",
    "sns.set()"
   ]
  },
  {
   "cell_type": "code",
   "execution_count": 15,
   "id": "6c013405",
   "metadata": {},
   "outputs": [
    {
     "name": "stdout",
     "output_type": "stream",
     "text": [
      "[[ 0.05343081 -0.00484439  0.1299312   0.06868544 -0.05886028]]\n"
     ]
    }
   ],
   "source": [
    "#feature coefficients\n",
    "regressor.fit(X1 / np.std(X1, 0), y1)\n",
    "print(regressor.coef_)"
   ]
  },
  {
   "cell_type": "code",
   "execution_count": 16,
   "id": "fe6d13a6",
   "metadata": {},
   "outputs": [
    {
     "name": "stdout",
     "output_type": "stream",
     "text": [
      "Feature: 0, Score: 0.10595\n",
      "Feature: 1, Score: -0.00185\n",
      "Feature: 2, Score: 0.02261\n",
      "Feature: 3, Score: 0.00247\n",
      "Feature: 4, Score: -0.02966\n"
     ]
    }
   ],
   "source": [
    "#plotting the feature importance\n",
    "#The coefficients are both positive and negative.\n",
    "# logistic regression for feature importance\n",
    "from matplotlib import pyplot\n",
    "# define the model\n",
    "model = LogisticRegression()\n",
    "# fit the model\n",
    "model.fit(X1, y1)\n",
    "# get importance\n",
    "importance = model.coef_[0]\n",
    "# summarize feature importance\n",
    "for i,v in enumerate(importance):\n",
    "    print('Feature: %0d, Score: %.5f' % (i,v))"
   ]
  },
  {
   "cell_type": "markdown",
   "id": "b520b4a7",
   "metadata": {},
   "source": [
    "* So the most important feature in this model is feature 2 (hour) with a score of 0.02261."
   ]
  },
  {
   "cell_type": "markdown",
   "id": "f63a3cfd",
   "metadata": {},
   "source": [
    "### 1.2 Using platform df"
   ]
  },
  {
   "cell_type": "code",
   "execution_count": 17,
   "id": "87fa2b13",
   "metadata": {},
   "outputs": [
    {
     "name": "stdout",
     "output_type": "stream",
     "text": [
      "[0.54464286 0.54017857 0.57142857 0.52017937 0.53363229]\n",
      "Mean LogisticRegression score : 0.542012331838565\n"
     ]
    }
   ],
   "source": [
    "# Applying the 5-fold Cross validation on logistic Regression model\n",
    "regressor=LogisticRegression(random_state=None)\n",
    "regressor.fit(X11_train,y11_train) \n",
    "scores=cross_val_score(estimator=regressor,X=X11_train,y=y11_train,cv=5,scoring='accuracy')\n",
    "print(scores)\n",
    "print('Mean LogisticRegression score :',scores.mean())"
   ]
  },
  {
   "cell_type": "code",
   "execution_count": 18,
   "id": "39466f6c",
   "metadata": {},
   "outputs": [
    {
     "data": {
      "text/html": [
       "<div>\n",
       "<style scoped>\n",
       "    .dataframe tbody tr th:only-of-type {\n",
       "        vertical-align: middle;\n",
       "    }\n",
       "\n",
       "    .dataframe tbody tr th {\n",
       "        vertical-align: top;\n",
       "    }\n",
       "\n",
       "    .dataframe thead th {\n",
       "        text-align: right;\n",
       "    }\n",
       "</style>\n",
       "<table border=\"1\" class=\"dataframe\">\n",
       "  <thead>\n",
       "    <tr style=\"text-align: right;\">\n",
       "      <th></th>\n",
       "      <th>Scores</th>\n",
       "    </tr>\n",
       "  </thead>\n",
       "  <tbody>\n",
       "    <tr>\n",
       "      <th>0</th>\n",
       "      <td>0.544643</td>\n",
       "    </tr>\n",
       "    <tr>\n",
       "      <th>1</th>\n",
       "      <td>0.540179</td>\n",
       "    </tr>\n",
       "    <tr>\n",
       "      <th>2</th>\n",
       "      <td>0.571429</td>\n",
       "    </tr>\n",
       "    <tr>\n",
       "      <th>3</th>\n",
       "      <td>0.520179</td>\n",
       "    </tr>\n",
       "    <tr>\n",
       "      <th>4</th>\n",
       "      <td>0.533632</td>\n",
       "    </tr>\n",
       "  </tbody>\n",
       "</table>\n",
       "</div>"
      ],
      "text/plain": [
       "     Scores\n",
       "0  0.544643\n",
       "1  0.540179\n",
       "2  0.571429\n",
       "3  0.520179\n",
       "4  0.533632"
      ]
     },
     "execution_count": 18,
     "metadata": {},
     "output_type": "execute_result"
    }
   ],
   "source": [
    "# saving the output to a pandas dataframe\n",
    "scores1 = pd.DataFrame(scores,columns=['Scores']) \n",
    "scores1.head()"
   ]
  },
  {
   "cell_type": "code",
   "execution_count": 19,
   "id": "c9cd3d30",
   "metadata": {},
   "outputs": [
    {
     "data": {
      "image/png": "[encoded data removed]",
      "text/plain": [
       "<Figure size 432x288 with 1 Axes>"
      ]
     },
     "metadata": {},
     "output_type": "display_data"
    }
   ],
   "source": [
    "# plotting the accuracy score\n",
    "sns.set(style=\"dark\", rc={\"lines.linewidth\": 9})\n",
    "sns.barplot(x=['experiment','date','hour','devicemake','platform'],y=\"Scores\",data=scores1, color=\"red\")\n",
    "plt.show()\n",
    "sns.set()"
   ]
  },
  {
   "cell_type": "code",
   "execution_count": 20,
   "id": "3e403ce7",
   "metadata": {},
   "outputs": [
    {
     "name": "stdout",
     "output_type": "stream",
     "text": [
      "[[ 0.05509583 -0.0055177   0.12475151  0.06072356  0.09600945]]\n"
     ]
    }
   ],
   "source": [
    "#feature coefficients\n",
    "regressor.fit(X11 / np.std(X11, 0), y11)\n",
    "print(regressor.coef_)"
   ]
  },
  {
   "cell_type": "code",
   "execution_count": 21,
   "id": "50ef51c4",
   "metadata": {},
   "outputs": [
    {
     "name": "stdout",
     "output_type": "stream",
     "text": [
      "Feature: 0, Score: 0.11122\n",
      "Feature: 1, Score: -0.00205\n",
      "Feature: 2, Score: 0.02186\n",
      "Feature: 3, Score: 0.00193\n",
      "Feature: 4, Score: 0.63366\n"
     ]
    }
   ],
   "source": [
    "#plotting the feature importance\n",
    "#The coefficients are both positive and negative.\n",
    "# logistic regression for feature importance\n",
    "from matplotlib import pyplot\n",
    "# define the model\n",
    "model = LogisticRegression()\n",
    "# fit the model\n",
    "model.fit(X11, y11)\n",
    "# get importance\n",
    "importance = model.coef_[0]\n",
    "# summarize feature importance\n",
    "for i,v in enumerate(importance):\n",
    "    print('Feature: %0d, Score: %.5f' % (i,v))"
   ]
  },
  {
   "cell_type": "markdown",
   "id": "6f157637",
   "metadata": {},
   "source": [
    "* Again, the most important feature in this model is feature 2 (hour) with a score of 0.02186."
   ]
  },
  {
   "cell_type": "code",
   "execution_count": 50,
   "id": "46f2acc5",
   "metadata": {},
   "outputs": [
    {
     "name": "stdout",
     "output_type": "stream",
     "text": [
      "step 0: Validation Accuracy of LogesticRegression is: 0.549\n",
      "step 0: Validation Loss of LogesticRegression is: 0.671\n",
      "\n",
      "step 1: Validation Accuracy of LogesticRegression is: 0.513\n",
      "step 1: Validation Loss of LogesticRegression is: 0.698\n",
      "\n",
      "step 2: Validation Accuracy of LogesticRegression is: 0.540\n",
      "step 2: Validation Loss of LogesticRegression is: 0.678\n",
      "\n",
      "step 3: Validation Accuracy of LogesticRegression is: 0.502\n",
      "step 3: Validation Loss of LogesticRegression is: 0.706\n",
      "\n",
      "step 4: Validation Accuracy of LogesticRegression is: 0.543\n",
      "step 4: Validation Loss of LogesticRegression is: 0.676\n",
      "\n"
     ]
    }
   ],
   "source": [
    "#Adding scripts path\n",
    "import sys, os\n",
    "sys.path.insert(0,'../scripts/')\n",
    "\n",
    "from Reg_script import LogesticRegressionModel\n",
    "LRModel = LogesticRegressionModel(X1_train, X1_test,  y1_train, y1_test)\n",
    "clf2, loss_arr_2, acc_arr_2 = LRModel.train(5)\n",
    "LRModel.write_model('browser_os_Logestic_Reg_model', clf2)"
   ]
  },
  {
   "cell_type": "markdown",
   "id": "e4234cb1",
   "metadata": {},
   "source": [
    "# 2. XGBOOST\n",
    "\n",
    "### 2.1 Using Browser Df"
   ]
  },
  {
   "cell_type": "code",
   "execution_count": 23,
   "id": "a92ac656",
   "metadata": {},
   "outputs": [
    {
     "name": "stdout",
     "output_type": "stream",
     "text": [
      "Actual: 900     0\n",
      "1003    0\n",
      "671     0\n",
      "620     0\n",
      "926     0\n",
      "997     0\n",
      "745     0\n",
      "938     0\n",
      "451     1\n",
      "439     1\n",
      "Name: response, dtype: int64\n"
     ]
    },
    {
     "name": "stderr",
     "output_type": "stream",
     "text": [
      "C:\\Users\\PC\\anaconda3\\lib\\site-packages\\xgboost\\sklearn.py:793: UserWarning: `early_stopping_rounds` in `fit` method is deprecated for better compatibility with scikit-learn, use `early_stopping_rounds` in constructor or`set_params` instead.\n",
      "  warnings.warn(\n"
     ]
    }
   ],
   "source": [
    "# Define XGBoost Model\n",
    "xgb = XGBClassifier(n_estimators=1000, learning_rate=0.05)\n",
    "# We fit our model with our train data\n",
    "xgb.fit(\n",
    "    X1_train, y1_train,\n",
    "    # That means if model don't improve it self in 5 rounds, it will stop learning\n",
    "    # So you can save your time and don't overtrain your model.\n",
    "    early_stopping_rounds=5,\n",
    "    # We provide Test data's to evaluate model performance\n",
    "    eval_set=[(X1_test, y1_test)],\n",
    "    verbose=False\n",
    " )\n",
    "# Then predict results from X_test data\n",
    "pred_xgb = xgb.predict(X1_test)\n",
    "\n",
    "# See First 10 Predictions and They Actual Values\n",
    "# print(\"Predicted:\", pred_xgb[0:10])\n",
    "print(\"Actual:\", y1_test[0:10])"
   ]
  },
  {
   "cell_type": "code",
   "execution_count": 24,
   "id": "f2f41d77",
   "metadata": {},
   "outputs": [
    {
     "data": {
      "image/png": "[encoded data removed]",
      "text/plain": [
       "<Figure size 432x288 with 1 Axes>"
      ]
     },
     "metadata": {},
     "output_type": "display_data"
    }
   ],
   "source": [
    "from xgboost import plot_importance\n",
    "# fit model no training data\n",
    "model = XGBClassifier()\n",
    "model.fit(X1, y1)\n",
    "# plot feature importance\n",
    "plot_importance(model)\n",
    "pyplot.show()"
   ]
  },
  {
   "cell_type": "markdown",
   "id": "214610c2",
   "metadata": {},
   "source": [
    "* Using this model, device_make is the most important feature in predicting the target variable response."
   ]
  },
  {
   "cell_type": "markdown",
   "id": "c6622880",
   "metadata": {},
   "source": [
    "### 2.2 Using platform DF"
   ]
  },
  {
   "cell_type": "code",
   "execution_count": 25,
   "id": "3bffe4c7",
   "metadata": {},
   "outputs": [
    {
     "name": "stdout",
     "output_type": "stream",
     "text": [
      "Actual: 900     0\n",
      "1003    0\n",
      "671     0\n",
      "620     0\n",
      "926     0\n",
      "997     0\n",
      "745     0\n",
      "938     0\n",
      "451     1\n",
      "439     1\n",
      "Name: response, dtype: int64\n"
     ]
    }
   ],
   "source": [
    "# Define XGBoost Model\n",
    "xgb = XGBClassifier(n_estimators=1000, learning_rate=0.05)\n",
    "# We fit our model with our train data\n",
    "xgb.fit(\n",
    "    X11_train, y11_train,\n",
    "    # That means if model don't improve it self in 5 rounds, it will stop learning\n",
    "    # So you can save your time and don't overtrain your model.\n",
    "    early_stopping_rounds=5,\n",
    "    # We provide Test data's to evaluate model performance\n",
    "    eval_set=[(X11_test, y11_test)],\n",
    "    verbose=False\n",
    " )\n",
    "# Then predict results from X_test data\n",
    "pred_xgb = xgb.predict(X11_test)\n",
    "\n",
    "# See First 10 Predictions and They Actual Values\n",
    "# print(\"Predicted:\", pred_xgb[0:10])\n",
    "print(\"Actual:\", y11_test[0:10])"
   ]
  },
  {
   "cell_type": "code",
   "execution_count": 26,
   "id": "d8b4a3c3",
   "metadata": {},
   "outputs": [
    {
     "data": {
      "image/png": "[encoded data removed]",
      "text/plain": [
       "<Figure size 432x288 with 1 Axes>"
      ]
     },
     "metadata": {},
     "output_type": "display_data"
    }
   ],
   "source": [
    "# fit model no training data\n",
    "model = XGBClassifier()\n",
    "model.fit(X11, y11)\n",
    "# plot feature importance\n",
    "plot_importance(model)\n",
    "pyplot.show()"
   ]
  },
  {
   "cell_type": "markdown",
   "id": "0d4bed38",
   "metadata": {},
   "source": [
    "* For the same model, but using platform dataframe, again device_make is the most important feature in predicting the target variable response."
   ]
  },
  {
   "cell_type": "code",
   "execution_count": 27,
   "id": "8e7195cf",
   "metadata": {},
   "outputs": [
    {
     "name": "stdout",
     "output_type": "stream",
     "text": [
      "step 0: Validation Accuracy of XGBoost is: 0.554\n",
      "step 0: Validation Loss of XGBoost is: 0.668\n",
      "\n",
      "step 1: Validation Accuracy of XGBoost is: 0.500\n",
      "step 1: Validation Loss of XGBoost is: 0.707\n",
      "\n",
      "step 2: Validation Accuracy of XGBoost is: 0.527\n",
      "step 2: Validation Loss of XGBoost is: 0.688\n",
      "\n",
      "step 3: Validation Accuracy of XGBoost is: 0.556\n",
      "step 3: Validation Loss of XGBoost is: 0.666\n",
      "\n",
      "step 4: Validation Accuracy of XGBoost is: 0.520\n",
      "step 4: Validation Loss of XGBoost is: 0.693\n",
      "\n"
     ]
    }
   ],
   "source": [
    "import sys, os\n",
    "sys.path.insert(0,'../scripts/')\n",
    "\n",
    "from Reg_script import XGBClassifierModel\n",
    "\n",
    "xGBClassifierModel = XGBClassifierModel(X1_train, X1_test,  y1_train, y1_test)\n",
    "clf3, acc_arr, loss_arr = xGBClassifierModel.train(5)\n",
    "xGBClassifierModel.write_model('browser_os_XGBoost_model', clf3)"
   ]
  },
  {
   "cell_type": "markdown",
   "id": "83b870f4",
   "metadata": {},
   "source": [
    "# 3. Random forest\n",
    "\n",
    "### 3.1 Using browser df"
   ]
  },
  {
   "cell_type": "code",
   "execution_count": 39,
   "id": "830a4715",
   "metadata": {},
   "outputs": [
    {
     "name": "stdout",
     "output_type": "stream",
     "text": [
      "Predicted: [0 0 1 1 1 1 0 0 0 0]\n",
      "Actual: 900     0\n",
      "1003    0\n",
      "671     0\n",
      "620     0\n",
      "926     0\n",
      "997     0\n",
      "745     0\n",
      "938     0\n",
      "451     1\n",
      "439     1\n",
      "Name: response, dtype: int64\n"
     ]
    }
   ],
   "source": [
    "# Define Random forest Model\n",
    "rf = RandomForestClassifier()\n",
    "# We fit our model with our train data\n",
    "rf.fit(X1_train, y1_train)\n",
    "# Then predict results from X_test data\n",
    "pred_rf = rf.predict(X1_test)\n",
    "\n",
    "# See First 10 Predictions and They Actual Values\n",
    "print(\"Predicted:\", pred_rf[0:10])\n",
    "print(\"Actual:\", y1_test[0:10])"
   ]
  },
  {
   "cell_type": "code",
   "execution_count": 40,
   "id": "0e92bc55",
   "metadata": {},
   "outputs": [
    {
     "name": "stdout",
     "output_type": "stream",
     "text": [
      "[0.55803571 0.54910714 0.54910714 0.5470852  0.55605381]\n",
      "Mean clf score : 0.551877802690583\n"
     ]
    }
   ],
   "source": [
    "#Applying k-fold Cross validation on random forest\n",
    "clf = RandomForestClassifier()\n",
    "clf.fit(X1_train,y1_train)\n",
    "clf_scores=cross_val_score(estimator=clf,X=X1_train,y=y1_train,cv=5,scoring='accuracy')\n",
    "print(clf_scores)\n",
    "print('Mean clf score :',clf_scores.mean())"
   ]
  },
  {
   "cell_type": "code",
   "execution_count": 41,
   "id": "d5cf2f3f",
   "metadata": {},
   "outputs": [
    {
     "data": {
      "text/html": [
       "<div>\n",
       "<style scoped>\n",
       "    .dataframe tbody tr th:only-of-type {\n",
       "        vertical-align: middle;\n",
       "    }\n",
       "\n",
       "    .dataframe tbody tr th {\n",
       "        vertical-align: top;\n",
       "    }\n",
       "\n",
       "    .dataframe thead th {\n",
       "        text-align: right;\n",
       "    }\n",
       "</style>\n",
       "<table border=\"1\" class=\"dataframe\">\n",
       "  <thead>\n",
       "    <tr style=\"text-align: right;\">\n",
       "      <th></th>\n",
       "      <th>Scores2</th>\n",
       "    </tr>\n",
       "  </thead>\n",
       "  <tbody>\n",
       "    <tr>\n",
       "      <th>0</th>\n",
       "      <td>0.558036</td>\n",
       "    </tr>\n",
       "    <tr>\n",
       "      <th>1</th>\n",
       "      <td>0.549107</td>\n",
       "    </tr>\n",
       "    <tr>\n",
       "      <th>2</th>\n",
       "      <td>0.549107</td>\n",
       "    </tr>\n",
       "    <tr>\n",
       "      <th>3</th>\n",
       "      <td>0.547085</td>\n",
       "    </tr>\n",
       "    <tr>\n",
       "      <th>4</th>\n",
       "      <td>0.556054</td>\n",
       "    </tr>\n",
       "  </tbody>\n",
       "</table>\n",
       "</div>"
      ],
      "text/plain": [
       "    Scores2\n",
       "0  0.558036\n",
       "1  0.549107\n",
       "2  0.549107\n",
       "3  0.547085\n",
       "4  0.556054"
      ]
     },
     "execution_count": 41,
     "metadata": {},
     "output_type": "execute_result"
    }
   ],
   "source": [
    "scores2 = pd.DataFrame(clf_scores,columns=['Scores2']) # saving the results into pandas dataframe\n",
    "scores2.head()"
   ]
  },
  {
   "cell_type": "code",
   "execution_count": 42,
   "id": "92899165",
   "metadata": {},
   "outputs": [
    {
     "name": "stdout",
     "output_type": "stream",
     "text": [
      "Feature: 0, Score: 0.04681\n",
      "Feature: 1, Score: 0.18781\n",
      "Feature: 2, Score: 0.39676\n",
      "Feature: 3, Score: 0.28338\n",
      "Feature: 4, Score: 0.08524\n"
     ]
    }
   ],
   "source": [
    "# define the model\n",
    "model = RandomForestClassifier()\n",
    "# fit the model\n",
    "model.fit(X1, y1)\n",
    "# get importance\n",
    "importance = model.feature_importances_\n",
    "# summarize feature importance\n",
    "for i,v in enumerate(importance):\n",
    "    print('Feature: %0d, Score: %.5f' % (i,v))\n",
    "# plot feature importance"
   ]
  },
  {
   "cell_type": "markdown",
   "id": "ae9d474a",
   "metadata": {},
   "source": [
    "* Random forest algorithm, using browser_dataframe, feature 3 (date) is the most important feature in predicting the target variable response."
   ]
  },
  {
   "cell_type": "markdown",
   "id": "24fd02f6",
   "metadata": {},
   "source": [
    "### 3.2 Using platform DF"
   ]
  },
  {
   "cell_type": "code",
   "execution_count": 45,
   "id": "d2281912",
   "metadata": {},
   "outputs": [
    {
     "name": "stdout",
     "output_type": "stream",
     "text": [
      "Predicted: [0 1 1 1 1 1 0 0 0 0]\n",
      "Actual: 900     0\n",
      "1003    0\n",
      "671     0\n",
      "620     0\n",
      "926     0\n",
      "997     0\n",
      "745     0\n",
      "938     0\n",
      "451     1\n",
      "439     1\n",
      "Name: response, dtype: int64\n"
     ]
    }
   ],
   "source": [
    "# Define Decision Tree Model\n",
    "rf = RandomForestClassifier()\n",
    "# We fit our model with our train data\n",
    "rf.fit(X11_train, y11_train)\n",
    "# Then predict results from X_test data\n",
    "pred_rf = rf.predict(X11_test)\n",
    "\n",
    "# See First 10 Predictions and They Actual Values\n",
    "print(\"Predicted:\", pred_rf[0:10])\n",
    "print(\"Actual:\", y11_test[0:10])"
   ]
  },
  {
   "cell_type": "code",
   "execution_count": 33,
   "id": "860c7845",
   "metadata": {},
   "outputs": [
    {
     "name": "stdout",
     "output_type": "stream",
     "text": [
      "[0.56696429 0.51785714 0.5625     0.56502242 0.5470852 ]\n",
      "Mean clf score : 0.5518858103779628\n"
     ]
    }
   ],
   "source": [
    "#Applying k-fold Cross validation on Decision tree\n",
    "clf = RandomForestClassifier()\n",
    "clf.fit(X11_train,y11_train)\n",
    "clf_scores=cross_val_score(estimator=clf,X=X11_train,y=y11_train,cv=5,scoring='accuracy')\n",
    "print(clf_scores)\n",
    "print('Mean clf score :',clf_scores.mean())"
   ]
  },
  {
   "cell_type": "code",
   "execution_count": 34,
   "id": "b8b61ff7",
   "metadata": {},
   "outputs": [
    {
     "data": {
      "text/html": [
       "<div>\n",
       "<style scoped>\n",
       "    .dataframe tbody tr th:only-of-type {\n",
       "        vertical-align: middle;\n",
       "    }\n",
       "\n",
       "    .dataframe tbody tr th {\n",
       "        vertical-align: top;\n",
       "    }\n",
       "\n",
       "    .dataframe thead th {\n",
       "        text-align: right;\n",
       "    }\n",
       "</style>\n",
       "<table border=\"1\" class=\"dataframe\">\n",
       "  <thead>\n",
       "    <tr style=\"text-align: right;\">\n",
       "      <th></th>\n",
       "      <th>Scores2</th>\n",
       "    </tr>\n",
       "  </thead>\n",
       "  <tbody>\n",
       "    <tr>\n",
       "      <th>0</th>\n",
       "      <td>0.566964</td>\n",
       "    </tr>\n",
       "    <tr>\n",
       "      <th>1</th>\n",
       "      <td>0.517857</td>\n",
       "    </tr>\n",
       "    <tr>\n",
       "      <th>2</th>\n",
       "      <td>0.562500</td>\n",
       "    </tr>\n",
       "    <tr>\n",
       "      <th>3</th>\n",
       "      <td>0.565022</td>\n",
       "    </tr>\n",
       "    <tr>\n",
       "      <th>4</th>\n",
       "      <td>0.547085</td>\n",
       "    </tr>\n",
       "  </tbody>\n",
       "</table>\n",
       "</div>"
      ],
      "text/plain": [
       "    Scores2\n",
       "0  0.566964\n",
       "1  0.517857\n",
       "2  0.562500\n",
       "3  0.565022\n",
       "4  0.547085"
      ]
     },
     "execution_count": 34,
     "metadata": {},
     "output_type": "execute_result"
    }
   ],
   "source": [
    "scores2 = pd.DataFrame(clf_scores,columns=['Scores2']) # saving the results into pandas dataframe\n",
    "scores2.head()"
   ]
  },
  {
   "cell_type": "code",
   "execution_count": 35,
   "id": "03a4de8d",
   "metadata": {},
   "outputs": [
    {
     "name": "stdout",
     "output_type": "stream",
     "text": [
      "Feature: 0, Score: 0.07491\n",
      "Feature: 1, Score: 0.23421\n",
      "Feature: 2, Score: 0.31512\n",
      "Feature: 3, Score: 0.26349\n",
      "Feature: 4, Score: 0.11227\n"
     ]
    }
   ],
   "source": [
    "# define the model\n",
    "model = DecisionTreeClassifier()\n",
    "# fit the model\n",
    "model.fit(X1, y1)\n",
    "# get importance\n",
    "importance = model.feature_importances_\n",
    "# summarize feature importance\n",
    "for i,v in enumerate(importance):\n",
    "    print('Feature: %0d, Score: %.5f' % (i,v))\n",
    "# plot feature importance"
   ]
  },
  {
   "cell_type": "markdown",
   "id": "4797d55c",
   "metadata": {},
   "source": [
    "* Random forest algorithm, using platform_dataframe, feature 3 (date) is the most important feature in predicting the target variable response."
   ]
  },
  {
   "cell_type": "code",
   "execution_count": 49,
   "id": "b42a1880",
   "metadata": {},
   "outputs": [
    {
     "name": "stdout",
     "output_type": "stream",
     "text": [
      "step 0: Validation Accuracy of RandomForest is: 0.562\n",
      "step 0: Validation Loss of Randomforest is: 0.661\n",
      "\n",
      "step 1: Validation Accuracy of RandomForest is: 0.531\n",
      "step 1: Validation Loss of Randomforest is: 0.685\n",
      "\n",
      "step 2: Validation Accuracy of RandomForest is: 0.504\n",
      "step 2: Validation Loss of Randomforest is: 0.704\n",
      "\n",
      "step 3: Validation Accuracy of RandomForest is: 0.552\n",
      "step 3: Validation Loss of Randomforest is: 0.670\n",
      "\n",
      "step 4: Validation Accuracy of RandomForest is: 0.529\n",
      "step 4: Validation Loss of Randomforest is: 0.686\n",
      "\n"
     ]
    }
   ],
   "source": [
    "import sys, os\n",
    "sys.path.insert(0,'../scripts/')\n",
    "\n",
    "from Reg_script import RandomForest\n",
    "\n",
    "RForest = RandomForest(X1_train, X1_test,  y1_train, y1_test)\n",
    "clf3, acc_arr, loss_arr = RForest.train(5)\n",
    "RForest.write_model('browser_os_RForest_model', clf3)"
   ]
  },
  {
   "cell_type": "markdown",
   "id": "72a6b018",
   "metadata": {},
   "source": [
    "# Accuracy scores"
   ]
  },
  {
   "cell_type": "code",
   "execution_count": 48,
   "id": "7084aac2",
   "metadata": {},
   "outputs": [
    {
     "name": "stdout",
     "output_type": "stream",
     "text": [
      "Accuracy Scores\n",
      "---------------\n",
      "Logistic Regression: 0.536\n",
      "XGBoost: 0.536\n",
      "Random Forest: 0.488\n"
     ]
    }
   ],
   "source": [
    "##y1_test - Actual value\n",
    "## pred_[model] = the values predicted above\n",
    "\n",
    "# Logistic Regression\n",
    "acc_log = accuracy_score(y1_test, pred_log)\n",
    "# XGBoost \n",
    "acc_xgb = accuracy_score(y1_test, pred_xgb)\n",
    "# Random Forest \n",
    "acc_rf = accuracy_score(y1_test, pred_rf)\n",
    "\n",
    "\n",
    "print(\"Accuracy Scores\")\n",
    "print(\"---------------\")\n",
    "\n",
    "print(\"Logistic Regression:\", acc_log)\n",
    "print(\"XGBoost:\", acc_xgb)\n",
    "print(\"Random Forest:\", acc_rf)"
   ]
  },
  {
   "cell_type": "markdown",
   "id": "1c4fd4d1",
   "metadata": {},
   "source": [
    "# So from the above scores we can conclude that both LR and XG boost yeild the best results while RF is the worst from the 3."
   ]
  }
 ],
 "metadata": {
  "kernelspec": {
   "display_name": "Python 3",
   "language": "python",
   "name": "python3"
  },
  "language_info": {
   "codemirror_mode": {
    "name": "ipython",
    "version": 3
   },
   "file_extension": ".py",
   "mimetype": "text/x-python",
   "name": "python",
   "nbconvert_exporter": "python",
   "pygments_lexer": "ipython3",
   "version": "3.8.3"
  }
 },
 "nbformat": 4,
 "nbformat_minor": 5
}
